{
 "cells": [
  {
   "cell_type": "code",
   "execution_count": 1,
   "id": "cc56c3c4",
   "metadata": {},
   "outputs": [],
   "source": [
    "import requests\n",
    "import json\n",
    "import time\n",
    "from requests.auth import HTTPBasicAuth\n",
    "import pygeohash as pgh\n",
    "import socket\n",
    "from datetime import datetime\n",
    "from enum import Enum"
   ]
  },
  {
   "cell_type": "code",
   "execution_count": 3,
   "id": "ad0836ef",
   "metadata": {},
   "outputs": [],
   "source": [
    "## ACT_Detection Node container creation\n",
    "\n",
    "data =\"\"\"{\n",
    "  \"m2m:cnt\": {\n",
    "    \"rn\": \"ACT_DetectionNode\",\n",
    "    \"lbl\" : [\"Detection\", \"Data\"]\n",
    "}\n",
    "  }\"\"\"\n",
    "API_endpoint= \"https://icon-lab.tim.it/onem2m/act_test\"\n",
    "\n",
    "headers= {'X-M2M-Origin': 'act_test_prod', 'X-M2M-RI': str(int(time.time())),'Accept': 'application/json', \n",
    "          'content-Type': 'application/vnd.onem2m-res+json;ty=3'}\n",
    "\n",
    "r= requests.post(url= API_endpoint, auth= HTTPBasicAuth('username', 'password'),\n",
    "\n",
    "              headers= headers, data=data)\n",
    "\n",
    "#r.json()"
   ]
  },
  {
   "cell_type": "code",
   "execution_count": null,
   "id": "113b72d7",
   "metadata": {},
   "outputs": [],
   "source": [
    "# ACT_Detection Node Container Instance\n",
    "\n",
    "detection_service_id= 'Skf1nYQGcd'\n",
    "test_time= datetime.now().isoformat()\n",
    "test_result= input(\"enter an integer value\")\n",
    "\n",
    "data= {'peripherial_id': '4A:54:4C:23:67:B6', 'status': 'active', 'test_time':test_time , 'test_result': test_result}\n",
    "# create a connection to the server\n",
    "\n",
    "new_dict= {'m2m:cin': {'cnf': 'application/json:0', 'con': data}}\n",
    "payload = json.dumps(new_dict)\n",
    "\n",
    "# we send the data to the detection Service Server running on the given address\n",
    "API_endpoint= \"http://127.0.0.1:5000/DetectionService\"\"\n",
    "\n",
    "headers= { 'content-Type':  'application/json'}\n",
    "\n",
    "r= requests.post(url= API_endpoint, headers= headers, data=payload)\n",
    "\n",
    "r.json()"
   ]
  },
  {
   "cell_type": "code",
   "execution_count": null,
   "id": "0b476c5e",
   "metadata": {},
   "outputs": [],
   "source": [
    "# ACT Detection Node Subscription Creation\n",
    "\n",
    "End_point= \"https://icon-lab.tim.it/onem2m/act_test/ACT_DetectionNode\"\n",
    "data1= \"\"\"{\n",
    "  \"m2m:sub\": {\n",
    "    \"rn\": \"DetectionNodeNotify\",\n",
    "    \"enc\": {\n",
    "    \"net\": [3]\n",
    "    },\n",
    "    \"nu\": [\"http://138.96.16.37:5002/ControlService\"],\n",
    "    \"nct\": 2\n",
    "    }\n",
    "  }\n",
    "\"\"\"\n",
    "headers= {'X-M2M-Origin': 'act_test_prod', 'X-M2M-RI': str(int(time.time())), 'content-Type': 'application/vnd.onem2m-res+json;ty=23',\n",
    "         'Accept': 'application/json'}\n",
    "res = requests.post(url= End_point,  auth= HTTPBasicAuth('username', 'password'),\n",
    "              headers= headers,data= data1)\n",
    "\n",
    "res.json()"
   ]
  },
  {
   "cell_type": "code",
   "execution_count": null,
   "id": "d99e9316",
   "metadata": {},
   "outputs": [],
   "source": []
  }
 ],
 "metadata": {
  "kernelspec": {
   "display_name": "Python 3",
   "language": "python",
   "name": "python3"
  },
  "language_info": {
   "codemirror_mode": {
    "name": "ipython",
    "version": 3
   },
   "file_extension": ".py",
   "mimetype": "text/x-python",
   "name": "python",
   "nbconvert_exporter": "python",
   "pygments_lexer": "ipython3",
   "version": "3.8.8"
  }
 },
 "nbformat": 4,
 "nbformat_minor": 5
}
