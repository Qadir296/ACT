{
 "cells": [
  {
   "cell_type": "code",
   "execution_count": 94,
   "id": "f1c585ca",
   "metadata": {},
   "outputs": [],
   "source": [
    "import requests\n",
    "import json\n",
    "import time\n",
    "from requests.auth import HTTPBasicAuth\n",
    "import pygeohash as pgh\n",
    "import socket\n",
    "from datetime import datetime\n",
    "from enum import Enum\n",
    "\n"
   ]
  },
  {
   "cell_type": "code",
   "execution_count": 43,
   "id": "6ec3558d",
   "metadata": {},
   "outputs": [
    {
     "name": "stdout",
     "output_type": "stream",
     "text": [
      "{'m2m:cin': {'pi': 'HyfGKYI_nu', 'ty': 4, 'ct': '20210708T144316', 'ri': 'S1B2Zkq4pd', 'rn': '4-20210708144316488cdmE', 'lt': '20210708T144316', 'et': '20310708T144316', 'acpi': ['/onem2m/acp_act_test'], 'st': 2, 'cs': 190, 'cr': 'act_test_prod', 'cnf': 'application/json:0', 'con': '{\"ezs42e44yx96\":[[\"C8:60:00:4C:27:A5\",[\"2021-07-08T16:43:06.398549\",\"2021-07-08T16:43:06.398549\"],\"http://localhealthservice.com\",\"http://Nationhealthservice.com\"],\"Public Health forecast\"]}'}}\n"
     ]
    }
   ],
   "source": [
    "API_endpoint= \"https://icon-lab.tim.it/onem2m/act_test/ACT_WebInterface/4-20210708144316488cdmE\"\n",
    "headers= {'X-M2M-Origin': 'act_test_prod', 'X-M2M-RI': str(int(time.time())),\n",
    "         'Accept': 'application/json', 'content-Type': 'application/vnd.onem2m-res+json;ty=4'}\n",
    "r= requests.get(url= API_endpoint, auth= HTTPBasicAuth('act_test', '@Test_99'),\n",
    "              headers= headers)\n",
    "## to print the reuslts in the dictionary\n",
    "payload = r.text\n",
    "dict_r = json.loads(payload)\n",
    "print(dict_r)"
   ]
  },
  {
   "cell_type": "code",
   "execution_count": 79,
   "id": "2b432770",
   "metadata": {},
   "outputs": [
    {
     "data": {
      "text/plain": [
       "dict_values([[['C8:60:00:4C:27:A5', ['2021-07-08T16:43:06.398549', '2021-07-08T16:43:06.398549'], 'http://localhealthservice.com', 'http://Nationhealthservice.com'], 'Public Health forecast']])"
      ]
     },
     "execution_count": 79,
     "metadata": {},
     "output_type": "execute_result"
    }
   ],
   "source": [
    "## in json format\n",
    "m= \"ezs42e44yx967789\"\n",
    "r= dict_r.get('m2m:cin')\n",
    "data = r.get('con')\n",
    "res = json.loads(data)\n",
    "res.values()"
   ]
  },
  {
   "cell_type": "code",
   "execution_count": 80,
   "id": "ea65f34e",
   "metadata": {},
   "outputs": [
    {
     "name": "stdout",
     "output_type": "stream",
     "text": [
      "<class 'dict_keys'>\n"
     ]
    }
   ],
   "source": [
    "keys = res.keys()\n",
    "print(f'{type(key)}')\n",
    "z=4"
   ]
  },
  {
   "cell_type": "code",
   "execution_count": 84,
   "id": "f0ea7617",
   "metadata": {},
   "outputs": [
    {
     "name": "stdout",
     "output_type": "stream",
     "text": [
      "record exist\n",
      "<class 'dict_keys'>\n"
     ]
    }
   ],
   "source": [
    "for m in keys:\n",
    "    print('record exist')\n",
    "    output= res.values()\n",
    "    print(f'{type(key)}')"
   ]
  },
  {
   "cell_type": "code",
   "execution_count": 91,
   "id": "f65ffaa3",
   "metadata": {},
   "outputs": [
    {
     "name": "stdout",
     "output_type": "stream",
     "text": [
      "[[[\"C8:60:00:4C:27:A5\", [\"2021-07-08T16:43:06.398549\", \"2021-07-08T16:43:06.398549\"], \"http://localhealthservice.com\", \"http://Nationhealthservice.com\"], \"Public Health forecast\"]]\n"
     ]
    }
   ],
   "source": [
    "    x= json.dumps(list(output))\n",
    "    print (x)"
   ]
  },
  {
   "cell_type": "code",
   "execution_count": 41,
   "id": "76eab715",
   "metadata": {},
   "outputs": [
    {
     "name": "stdout",
     "output_type": "stream",
     "text": [
      "{\"m2m:cin\": {\"cnf\": \"application/json:0\", \"con\": {\"ezs42e44yx96\": [[\"C8:60:00:4C:27:A5\", [\"2021-07-08T16:43:06.398549\", \"2021-07-08T16:43:06.398549\"], \"http://localhealthservice.com\", \"http://Nationhealthservice.com\"], \"Public Health forecast\"]}}}\n"
     ]
    }
   ],
   "source": [
    "perpheral_id= \"C8:60:00:4C:27:A5\"\n",
    "start_time= datetime.now().isoformat()\n",
    "end_time= datetime.now().isoformat()\n",
    "forecasts= [start_time, end_time]\n",
    "localservice= \"http://localhealthservice.com\"\n",
    "controlservice= \"http://Nationhealthservice.com\"\n",
    "\n",
    "replies= [perpheral_id, forecasts, localservice, controlservice]\n",
    "message= \"Public Health forecast\"\n",
    "\n",
    "ACTdict = {'ezs42e44yx96': [replies, message]}\n",
    "new_dict= {'m2m:cin': {'cnf': 'application/json:0', 'con': ACTdict}}\n",
    "payload = json.dumps(new_dict)\n",
    "print(payload)"
   ]
  },
  {
   "cell_type": "code",
   "execution_count": 42,
   "id": "bcd50496",
   "metadata": {},
   "outputs": [
    {
     "data": {
      "text/plain": [
       "{'m2m:cin': {'rn': '4-20210708144316488cdmE',\n",
       "  'ty': 4,\n",
       "  'pi': 'HyfGKYI_nu',\n",
       "  'ri': 'S1B2Zkq4pd',\n",
       "  'ct': '20210708T144316',\n",
       "  'et': '20310708T144316',\n",
       "  'lt': '20210708T144316',\n",
       "  'st': 2,\n",
       "  'cs': 190,\n",
       "  'con': {'ezs42e44yx96': [['C8:60:00:4C:27:A5',\n",
       "     ['2021-07-08T16:43:06.398549', '2021-07-08T16:43:06.398549'],\n",
       "     'http://localhealthservice.com',\n",
       "     'http://Nationhealthservice.com'],\n",
       "    'Public Health forecast']},\n",
       "  'acpi': ['/onem2m/acp_act_test'],\n",
       "  'cnf': 'application/json:0',\n",
       "  'cr': 'act_test_prod'}}"
      ]
     },
     "execution_count": 42,
     "metadata": {},
     "output_type": "execute_result"
    }
   ],
   "source": [
    "API_endpoint= \"https://icon-lab.tim.it/onem2m/act_test/ACT_WebInterface\"\n",
    "headers= {'X-M2M-Origin': 'act_test_prod', 'X-M2M-RI': str(int(time.time())), 'content-Type': 'application/vnd.onem2m-res+json;ty=4',\n",
    "         'Accept': 'application/json'}\n",
    "response = requests.post(url= API_endpoint,  auth= HTTPBasicAuth('act_test', '@Test_99'),\n",
    "              headers= headers,data= payload)\n",
    "response.json()"
   ]
  },
  {
   "cell_type": "code",
   "execution_count": 97,
   "id": "48fd2657",
   "metadata": {},
   "outputs": [],
   "source": []
  },
  {
   "cell_type": "code",
   "execution_count": 95,
   "id": "c65a34ed",
   "metadata": {},
   "outputs": [],
   "source": [
    "def GetRequest(data):\n",
    "    API_endpoint= \"https://icon-lab.tim.it/onem2m/act_test/ACT_WebInterface\"\n",
    "    headers= {'X-M2M-Origin': 'act_test_prod', 'X-M2M-RI': str(int(time.time())),\n",
    "            'Accept': 'application/json', 'content-Type': 'application/vnd.onem2m-res+json;ty=4'}\n",
    "    r= requests.get(url= API_endpoint, auth= HTTPBasicAuth('act_test', '@Test_99'),\n",
    "                headers= headers)\n",
    "    ## to print the reuslts in the dictionary\n",
    "    payload = r.text\n",
    "    dict_r = json.loads(payload)\n",
    "    print(dict_r)\n",
    "    return dict_r"
   ]
  },
  {
   "cell_type": "code",
   "execution_count": null,
   "id": "545df2ce",
   "metadata": {},
   "outputs": [],
   "source": []
  },
  {
   "cell_type": "code",
   "execution_count": null,
   "id": "efc7ecaa",
   "metadata": {},
   "outputs": [],
   "source": []
  },
  {
   "cell_type": "code",
   "execution_count": null,
   "id": "1aa0f8a2",
   "metadata": {},
   "outputs": [
    {
     "name": "stdout",
     "output_type": "stream",
     "text": [
      "Connecting to hello world server…\n",
      "Sending request %s …\n"
     ]
    }
   ],
   "source": [
    "import zmq\n",
    "import requests\n",
    "\n",
    "context = zmq.Context()\n",
    "\n",
    "#  Socket to talk to server\n",
    "print(\"Connecting to hello world server…\")\n",
    "socket = context.socket(zmq.REQ)\n",
    "socket.connect(\"tcp://138.96.220.69:8001\")\n",
    "print(\"Sending request %s …\")\n",
    "b= str.encode(\"ezs42e44yx96\")\n",
    "request= socket.send(bytes)\n",
    " #  Get the reply.\n",
    "while(True):\n",
    "    message = socket.recv()\n",
    "    print(\"Received reply %s [ %s ]\" % (request, message))\n",
    "    if(message==b''):\n",
    "        print(\"Connection closed\")\n",
    "        break\n",
    "socket.close()"
   ]
  },
  {
   "cell_type": "code",
   "execution_count": null,
   "id": "b5ccf2c8",
   "metadata": {},
   "outputs": [],
   "source": [
    "import socket\n",
    "import sys\n",
    "\n",
    "HOST = '138.96.220.69'    # The remote host\n",
    "PORT = 8001             # The same port as used by the server\n",
    "s = None\n",
    "for res in socket.getaddrinfo(HOST, PORT, socket.AF_UNSPEC, socket.SOCK_STREAM):\n",
    "    af, socktype, proto, canonname, sa = res\n",
    "    try:\n",
    "        s = socket.socket(af, socktype, proto)\n",
    "    except socket.error as msg:\n",
    "        s = None\n",
    "        continue\n",
    "    try:\n",
    "        s.connect(sa)\n",
    "    except socket.error as msg:\n",
    "        s.close()\n",
    "        s = None\n",
    "        continue\n",
    "    break\n",
    "if s is None:\n",
    "    print ('could not open socket')\n",
    "    sys.exit(1)\n",
    "b= str.encode(\"ezs42e44yx96\")\n",
    "s.send(b)\n",
    "data = s.recv(1024)\n",
    "print(\"Response send: %s\" % data)\n",
    "s.close()\n",
    "print ('Received', repr(data))"
   ]
  },
  {
   "cell_type": "code",
   "execution_count": null,
   "id": "49db5ad3",
   "metadata": {},
   "outputs": [],
   "source": []
  }
 ],
 "metadata": {
  "kernelspec": {
   "display_name": "Python 3",
   "language": "python",
   "name": "python3"
  },
  "language_info": {
   "codemirror_mode": {
    "name": "ipython",
    "version": 3
   },
   "file_extension": ".py",
   "mimetype": "text/x-python",
   "name": "python",
   "nbconvert_exporter": "python",
   "pygments_lexer": "ipython3",
   "version": "3.8.8"
  }
 },
 "nbformat": 4,
 "nbformat_minor": 5
}
