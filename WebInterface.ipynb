{
 "cells": [
  {
   "cell_type": "code",
   "execution_count": 1,
   "id": "98eacbd9",
   "metadata": {},
   "outputs": [],
   "source": [
    "from werkzeug.datastructures import Headers\n",
    "from pip._vendor import requests\n",
    "import json\n",
    "import time\n",
    "from requests.auth import HTTPBasicAuth\n",
    "import pygeohash as pgh\n",
    "from datetime import datetime\n",
    "from enum import Enum\n",
    "from flask import Flask, json,request, jsonify\n",
    "from typing import List\n",
    "from datetimerange import DateTimeRange"
   ]
  },
  {
   "cell_type": "code",
   "execution_count": 6,
   "id": "af4d1b71",
   "metadata": {},
   "outputs": [
    {
     "name": "stdout",
     "output_type": "stream",
     "text": [
      "enter the longitude  = -4.9\n",
      "latitude = 20\n",
      "['Red', 'Message from National Health Service', {'ev74dvrddm74': {'DetectionNodeData': {'peripherial_id': '4A:54:4C:23:67:B6', 'status': 'active', 'test_result': '6', 'test_time': '2021-08-12T14:06:48.549172'}, 'Disinfection': True, 'Disinfection_Time': '2021-08-12T14:06:52.282143', 'Location-Service-Info': 'https://NationalHealth.com/forecast', 'location': 'ev74dvrddm74'}}]\n"
     ]
    }
   ],
   "source": [
    "headers= {'X-M2M-Origin': 'act_test_prod', 'X-M2M-RI': str(int(time.time())), 'content-Type': 'application/vnd.onem2m-res+json;ty=4',\n",
    "        'Accept': 'application/json'}\n",
    "\n",
    "dataFromControlService= {}\n",
    "\n",
    "longitude = input(\"enter the longitude  = \")\n",
    "latitude = input(\"latitude = \")\n",
    "\n",
    "header = {'content-Type' : 'application/json'}\n",
    "res = requests.get(url = 'http://138.96.16.37:443/ControlService/location?', params= {'latitude': latitude, 'longitude': longitude}, headers = header )\n",
    "\n",
    "print (res.json())\n"
   ]
  },
  {
   "cell_type": "code",
   "execution_count": 41,
   "id": "6d8223b9",
   "metadata": {},
   "outputs": [],
   "source": [
    "geohash_code = 'ev74dvrddm74'\n",
    "dit = {}\n",
    "l = []"
   ]
  },
  {
   "cell_type": "code",
   "execution_count": 45,
   "id": "622024dc",
   "metadata": {},
   "outputs": [
    {
     "name": "stdout",
     "output_type": "stream",
     "text": [
      "Hello [{'DetectionNodeData': {'peripherial_id': '4A:54:4C:23:67:B6', 'status': 'active', 'test_result': '6', 'test_time': '2021-08-12T14:06:48.549172'}, 'Disinfection': True, 'Disinfection_Time': '2021-08-12T14:06:52.282143', 'Location-Service-Info': 'https://NationalHealth.com/forecast', 'location': 'ev74dvrddm74'}]\n"
     ]
    }
   ],
   "source": [
    "lis ={'ev74dvrddm74': {'DetectionNodeData': {'peripherial_id': '4A:54:4C:23:67:B6', 'status': 'active', 'test_result': '6', \n",
    "                                                                                              'test_time': '2021-08-12T14:06:48.549172'}, 'Disinfection': True, 'Disinfection_Time': '2021-08-12T14:06:52.282143', 'Location-Service-Info': 'https://NationalHealth.com/forecast', \n",
    "'location': 'ev74dvrddm74'}}\n",
    "\n",
    "\n",
    "\n",
    "dit.update(lis)\n",
    "y={'forecast' : 'Green'}\n",
    "dit.update(y) \n",
    "if geohash_code in dit.keys():\n",
    "    values = dit[geohash_code]\n",
    "    l.append(values)\n",
    "    print (\"Hello\", l)\n",
    "else:\n",
    "    print(\"Not found\")"
   ]
  },
  {
   "cell_type": "code",
   "execution_count": 67,
   "id": "6c952c68",
   "metadata": {},
   "outputs": [],
   "source": [
    "from tkinter import *\n",
    "def create_circle(i,x, y, r, canvasName): #center coordinates, radius\n",
    "    x0 = x - r\n",
    "    y0 = y - r\n",
    "    x1 = x + r\n",
    "    y1 = y + r\n",
    "    return i*canvasName.create_oval(x0, y0, x1, y1)"
   ]
  },
  {
   "cell_type": "code",
   "execution_count": 77,
   "id": "01aaa911",
   "metadata": {},
   "outputs": [],
   "source": [
    "\n",
    "master = Tk()\n",
    "\n",
    "w = Canvas(master, width=1000, height=2000)\n",
    "w.create_rectangle(0, 0, 1000, 2000, fill=\"blue\", outline = 'blue')\n",
    "w.create_rectangle(0, 0, 50, 70, fill=\"red\", outline = 'blue')\n",
    "create_circle(4,100, 100, 20, w)\n",
    "w.pack()\n",
    "master.mainloop()"
   ]
  },
  {
   "cell_type": "code",
   "execution_count": 56,
   "id": "6526bef6",
   "metadata": {},
   "outputs": [],
   "source": [
    "from tkinter import *\n",
    "root = Tk()\n",
    "myCanvas = Canvas(root)\n",
    "myCanvas.pack()\n",
    "\n",
    "\n",
    "\n",
    "create_circle(100, 100, 20, myCanvas)\n",
    "create_circle(50, 25, 10, myCanvas)\n",
    "root.mainloop()"
   ]
  },
  {
   "cell_type": "code",
   "execution_count": 76,
   "id": "bf5e24bb",
   "metadata": {},
   "outputs": [],
   "source": []
  },
  {
   "cell_type": "code",
   "execution_count": null,
   "id": "49ac2968",
   "metadata": {},
   "outputs": [],
   "source": []
  }
 ],
 "metadata": {
  "kernelspec": {
   "display_name": "Python 3",
   "language": "python",
   "name": "python3"
  },
  "language_info": {
   "codemirror_mode": {
    "name": "ipython",
    "version": 3
   },
   "file_extension": ".py",
   "mimetype": "text/x-python",
   "name": "python",
   "nbconvert_exporter": "python",
   "pygments_lexer": "ipython3",
   "version": "3.8.8"
  }
 },
 "nbformat": 4,
 "nbformat_minor": 5
}
