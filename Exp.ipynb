{
 "cells": [
  {
   "cell_type": "code",
   "execution_count": 1,
   "id": "06c6a0ff",
   "metadata": {},
   "outputs": [],
   "source": [
    "from randmac import RandMac\n",
    "\n",
    "BSSID = []\n",
    "def Generate_BSSID(n):\n",
    "    example_mac = \"00:00:00:00:00:00\"\n",
    "    for i in range(n):\n",
    "        generated_bssid = RandMac(example_mac)\n",
    "        BSSID.append(generated_bssid)\n",
    "    return BSSID"
   ]
  },
  {
   "cell_type": "code",
   "execution_count": 2,
   "id": "77854f47",
   "metadata": {},
   "outputs": [
    {
     "name": "stdout",
     "output_type": "stream",
     "text": [
      "['a6:0b:ac:3d:16:f0', 'aa:b7:ca:05:e4:f1', '02:13:65:b2:15:b9', '56:f1:b4:87:0b:2a', '2e:f7:6b:c4:8d:d9', '26:ae:05:f2:08:c7', '56:a1:2d:d3:ae:1d', '62:dc:7b:d6:cb:49', '12:41:71:4e:22:14', '2e:fe:44:1f:3f:7a']\n"
     ]
    }
   ],
   "source": [
    "n = 10 # number of corridors\n",
    "id = Generate_BSSID(10)\n",
    "print (id)"
   ]
  },
  {
   "cell_type": "code",
   "execution_count": 3,
   "id": "8b63a7f6",
   "metadata": {},
   "outputs": [],
   "source": [
    "# Corridors with IDS\n",
    "from pyvis.network import Network\n",
    "import networkx as nx\n",
    "nx_graph = nx.cycle_graph(n)\n",
    "for i in range(n):\n",
    "    nx_graph.nodes[i]['title'] = str(id[i])\n",
    "nt = Network('500px', '500px')\n",
    "# populates the nodes and edges data structures\n",
    "nt.from_nx(nx_graph)\n",
    "nt.show('graph.html')"
   ]
  },
  {
   "cell_type": "code",
   "execution_count": 4,
   "id": "0d8472d2",
   "metadata": {},
   "outputs": [],
   "source": [
    "# now customer visit \n",
    "import numpy as np\n",
    "import matplotlib.pyplot as plt\n",
    "\n",
    "def Randwalk(n):\n",
    "    x = 2\n",
    "    y = 3\n",
    "    time = [x]\n",
    "    position = [y] \n",
    "    for i in range (1,n+1):\n",
    "        move = np.random.uniform(1,5)\n",
    "        print(move)\n",
    " \n",
    "        if move < 3:    \n",
    "            x += 1\n",
    "            y += 1  \n",
    " \n",
    "        if move > 3:    \n",
    "            x += 1\n",
    "            y += -1\n",
    "  \n",
    "        time.append(x)\n",
    "        position.append(y)\n",
    " \n",
    "    return [time, position]"
   ]
  },
  {
   "cell_type": "code",
   "execution_count": 7,
   "id": "46fce014",
   "metadata": {},
   "outputs": [
    {
     "name": "stdout",
     "output_type": "stream",
     "text": [
      "4.822347197416824\n",
      "1.9799786013296519\n",
      "2.2844032779580306\n",
      "[[2, 3, 4, 5], [3, 2, 3, 4]]\n"
     ]
    }
   ],
   "source": [
    "walk = Randwalk(3)\n",
    "print (walk)"
   ]
  },
  {
   "cell_type": "code",
   "execution_count": 8,
   "id": "3a327c1c",
   "metadata": {},
   "outputs": [
    {
     "name": "stdout",
     "output_type": "stream",
     "text": [
      "56:f1:b4:87:0b:2a\n",
      "02:13:65:b2:15:b9\n",
      "56:f1:b4:87:0b:2a\n",
      "2e:f7:6b:c4:8d:d9\n"
     ]
    }
   ],
   "source": [
    "path = walk[1]\n",
    "for i in path:\n",
    "    nx_graph.nodes[i]['color'] = 'red'\n",
    "    print (str(id[i]))\n",
    "nt = Network('500px', '500px')\n",
    "# populates the nodes and edges data structures\n",
    "nt.from_nx(nx_graph)\n",
    "nt.show('graph.html')"
   ]
  },
  {
   "cell_type": "code",
   "execution_count": 23,
   "id": "20382cf5",
   "metadata": {},
   "outputs": [],
   "source": [
    "# send the data to the detection Node\n",
    "for i in range(len(BSSID)): \n",
    "    value = BSSID[i] \n",
    "    test_result= random.sample(range(1, 10), 1)\n",
    "    test_time= datetime.now().isoformat()\n",
    "    data= {'peripherial_id': str(value), 'status': 'active', 'test_time':test_time ,'test_result': str(test_result)} \n",
    "    new_dict= {'m2m:cin': {'cnf': 'application/json:0', 'con': data}}\n",
    "    payload = json.dumps(new_dict)\n",
    "    API_endpoint= \"http://127.0.0.1:5000/DetectionService\"\n",
    "    headers= { 'content-Type':  'application/json'}\n",
    "    print (payload)\n",
    "    time.sleep(6)"
   ]
  },
  {
   "cell_type": "code",
   "execution_count": 25,
   "id": "2756a588",
   "metadata": {},
   "outputs": [],
   "source": [
    "# request from the server for the data and filtering the data with BSSIDs"
   ]
  },
  {
   "cell_type": "code",
   "execution_count": 7,
   "id": "dc2b493e",
   "metadata": {},
   "outputs": [
    {
     "data": {
      "image/png": "[encoded data removed]",
      "text/plain": [
       "<Figure size 432x288 with 1 Axes>"
      ]
     },
     "metadata": {
      "needs_background": "light"
     },
     "output_type": "display_data"
    },
    {
     "name": "stdout",
     "output_type": "stream",
     "text": [
      "[2, 9, 1, 4, 1]\n"
     ]
    }
   ],
   "source": [
    "# random walk\n",
    "\n",
    "from random import seed\n",
    "from random import randrange \n",
    "from matplotlib import pyplot\n",
    "\n",
    "seed(1)\n",
    "series_walk = [randrange(n) for i in range(5)]\n",
    "pyplot.plot(series_walk)\n",
    "pyplot.show()\n",
    "print(series_walk)"
   ]
  },
  {
   "cell_type": "code",
   "execution_count": 9,
   "id": "5cacc99a",
   "metadata": {},
   "outputs": [
    {
     "name": "stdout",
     "output_type": "stream",
     "text": [
      "{\"location_data\": {\"_id\": {\"$oid\": \"613a6e05bb982cbcebf708b4\"}, \"DetectionNodeData\": {\"peripherial_id\": \"4A:54:4C:23:67:B6\", \"status\": \"active\", \"test_result\": \"5\", \"test_time\": \"2021-09-09T22:26:42.131090\"}, \"Disinfection\": true, \"Disinfection_Time\": \"2021-09-09T22:26:45.098924\", \"Location-Service-Info\": \"https://NationalHealth.com/forecast\", \"location\": \"ev74dvrddm74\"}}\n"
     ]
    }
   ],
   "source": [
    "\n",
    "# api-endpoint\n",
    "URL = \"http://138.96.16.37:443/ControlService/location\"\n",
    "\n",
    "PARAMS = {'location':'ev74dvrddm74'}\n",
    "\n",
    "r = requests.get(url = URL, params = PARAMS)\n",
    "\n",
    "# extracting data in json format\n",
    "data = r.json()\n",
    "print(data)\n"
   ]
  },
  {
   "cell_type": "code",
   "execution_count": null,
   "id": "c3976191",
   "metadata": {},
   "outputs": [],
   "source": []
  }
 ],
 "metadata": {
  "kernelspec": {
   "display_name": "Python 3",
   "language": "python",
   "name": "python3"
  },
  "language_info": {
   "codemirror_mode": {
    "name": "ipython",
    "version": 3
   },
   "file_extension": ".py",
   "mimetype": "text/x-python",
   "name": "python",
   "nbconvert_exporter": "python",
   "pygments_lexer": "ipython3",
   "version": "3.8.8"
  }
 },
 "nbformat": 4,
 "nbformat_minor": 5
}
