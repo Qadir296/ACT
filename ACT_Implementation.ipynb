{
 "cells": [
  {
   "cell_type": "code",
   "execution_count": 1,
   "id": "b6c02e6d",
   "metadata": {
    "scrolled": false
   },
   "outputs": [],
   "source": [
    "import requests\n",
    "import json\n",
    "import time\n",
    "from requests.auth import HTTPBasicAuth\n",
    "import pygeohash as pgh\n",
    "import socket\n",
    "from datetime import datetime\n",
    "from enum import Enum\n",
    "\n"
   ]
  },
  {
   "cell_type": "code",
   "execution_count": 4,
   "id": "7d73e08e",
   "metadata": {},
   "outputs": [
    {
     "ename": "TypeError",
     "evalue": "the JSON object must be str, bytes or bytearray, not Response",
     "output_type": "error",
     "traceback": [
      "\u001b[1;31m---------------------------------------------------------------------------\u001b[0m",
      "\u001b[1;31mTypeError\u001b[0m                                 Traceback (most recent call last)",
      "\u001b[1;32m<ipython-input-4-9b78eacccf6c>\u001b[0m in \u001b[0;36m<module>\u001b[1;34m\u001b[0m\n\u001b[0;32m     11\u001b[0m               headers= headers)\n\u001b[0;32m     12\u001b[0m \u001b[1;31m#r.status_code\u001b[0m\u001b[1;33m\u001b[0m\u001b[1;33m\u001b[0m\u001b[1;33m\u001b[0m\u001b[0m\n\u001b[1;32m---> 13\u001b[1;33m \u001b[0mdata\u001b[0m \u001b[1;33m=\u001b[0m \u001b[0mjson\u001b[0m\u001b[1;33m.\u001b[0m\u001b[0mloads\u001b[0m\u001b[1;33m(\u001b[0m\u001b[0mr\u001b[0m\u001b[1;33m)\u001b[0m\u001b[1;33m\u001b[0m\u001b[1;33m\u001b[0m\u001b[0m\n\u001b[0m\u001b[0;32m     14\u001b[0m \u001b[1;31m#dict_r = json.loads(payload)\u001b[0m\u001b[1;33m\u001b[0m\u001b[1;33m\u001b[0m\u001b[1;33m\u001b[0m\u001b[0m\n\u001b[0;32m     15\u001b[0m \u001b[0mprint\u001b[0m\u001b[1;33m(\u001b[0m\u001b[0mdata\u001b[0m\u001b[1;33m)\u001b[0m\u001b[1;33m\u001b[0m\u001b[1;33m\u001b[0m\u001b[0m\n",
      "\u001b[1;32m~\\Anaconda3\\lib\\json\\__init__.py\u001b[0m in \u001b[0;36mloads\u001b[1;34m(s, cls, object_hook, parse_float, parse_int, parse_constant, object_pairs_hook, **kw)\u001b[0m\n\u001b[0;32m    339\u001b[0m     \u001b[1;32melse\u001b[0m\u001b[1;33m:\u001b[0m\u001b[1;33m\u001b[0m\u001b[1;33m\u001b[0m\u001b[0m\n\u001b[0;32m    340\u001b[0m         \u001b[1;32mif\u001b[0m \u001b[1;32mnot\u001b[0m \u001b[0misinstance\u001b[0m\u001b[1;33m(\u001b[0m\u001b[0ms\u001b[0m\u001b[1;33m,\u001b[0m \u001b[1;33m(\u001b[0m\u001b[0mbytes\u001b[0m\u001b[1;33m,\u001b[0m \u001b[0mbytearray\u001b[0m\u001b[1;33m)\u001b[0m\u001b[1;33m)\u001b[0m\u001b[1;33m:\u001b[0m\u001b[1;33m\u001b[0m\u001b[1;33m\u001b[0m\u001b[0m\n\u001b[1;32m--> 341\u001b[1;33m             raise TypeError(f'the JSON object must be str, bytes or bytearray, '\n\u001b[0m\u001b[0;32m    342\u001b[0m                             f'not {s.__class__.__name__}')\n\u001b[0;32m    343\u001b[0m         \u001b[0ms\u001b[0m \u001b[1;33m=\u001b[0m \u001b[0ms\u001b[0m\u001b[1;33m.\u001b[0m\u001b[0mdecode\u001b[0m\u001b[1;33m(\u001b[0m\u001b[0mdetect_encoding\u001b[0m\u001b[1;33m(\u001b[0m\u001b[0ms\u001b[0m\u001b[1;33m)\u001b[0m\u001b[1;33m,\u001b[0m \u001b[1;34m'surrogatepass'\u001b[0m\u001b[1;33m)\u001b[0m\u001b[1;33m\u001b[0m\u001b[1;33m\u001b[0m\u001b[0m\n",
      "\u001b[1;31mTypeError\u001b[0m: the JSON object must be str, bytes or bytearray, not Response"
     ]
    }
   ],
   "source": [
    "### GET REQUEST FROM ICON'\n",
    "date= '2021-06-30T14:41:09.415370'\n",
    "filters = [dict(cra= date)]\n",
    "params = dict(q=json.dumps(dict(filters=filters)))\n",
    "\n",
    "\n",
    "API_endpoint= \"https://icon-lab.tim.it/onem2m/act_test/ACT_ControlService\"\n",
    "headers= {'X-M2M-Origin': 'act_test_prod', 'X-M2M-RI': str(int(time.time())),\n",
    "         'Accept': 'application/json', 'content-Type': 'application/vnd.onem2m-res+json;ty=4'}\n",
    "r= requests.get(url= API_endpoint, params=params, auth= HTTPBasicAuth(''user', 'password'),\n",
    "              headers= headers)\n",
    "#r.status_code\n",
    "#dict_r = json.loads(payload)\n",
    "print(data)\n",
    "#print(f'{type(dict_r)}')\n",
    "## print(f'# of resources found = {len(dict_r)}')"
   ]
  },
  {
   "cell_type": "code",
   "execution_count": 31,
   "id": "778869fd",
   "metadata": {},
   "outputs": [
    {
     "data": {
      "text/plain": [
       "{'m2m:cin': [{'ri': 'HJzyTtrsnd',\n",
       "   'pi': 'Skf1nYQGcd',\n",
       "   'ct': '20210701T135710',\n",
       "   'cs': 11,\n",
       "   'cr': 'act_test_prod',\n",
       "   'cnf': 'application/json:0',\n",
       "   'st': 0,\n",
       "   'acpi': ['/onem2m/acp_act_test'],\n",
       "   'con': '{\"value\":1}',\n",
       "   'ty': 4,\n",
       "   'rn': '4-20210701135710688Qmku'},\n",
       "  {'ri': 'BkBWoal9nu',\n",
       "   'pi': 'Skf1nYQGcd',\n",
       "   'ct': '20210630T142008',\n",
       "   'cs': 42,\n",
       "   'cr': 'act_test_prod',\n",
       "   'cnf': 'application/json:0',\n",
       "   'st': 0,\n",
       "   'acpi': ['/onem2m/acp_act_test'],\n",
       "   'con': '{\"comand\":\"TEST_START\",\"test_interval\":10}',\n",
       "   'ty': 4,\n",
       "   'rn': '4-20210630142008771KqBl'},\n",
       "  {'ri': 'SkzQIKLO2_',\n",
       "   'pi': 'Skf1nYQGcd',\n",
       "   'ct': '20210629T082650',\n",
       "   'cs': 11,\n",
       "   'cr': 'act_test_prod',\n",
       "   'cnf': 'application/json:0',\n",
       "   'st': 0,\n",
       "   'acpi': ['/onem2m/acp_act_test'],\n",
       "   'con': '{\"value\":1}',\n",
       "   'ty': 4,\n",
       "   'rn': '4-20210629082650758ZyrX'},\n",
       "  {'ri': 'SyfvLmKehu',\n",
       "   'pi': 'Skf1nYQGcd',\n",
       "   'ct': '20210623T094758',\n",
       "   'cs': 76,\n",
       "   'cr': 'act_test_prod',\n",
       "   'cnf': 'application/json:0',\n",
       "   'st': 0,\n",
       "   'acpi': ['/onem2m/acp_act_test'],\n",
       "   'con': '{\"status\":\"active\",\"test_time\":\"2021-06-23T11:47:15.239888\",\"test_result\":7}',\n",
       "   'ty': 4,\n",
       "   'rn': '4-20210623094758718Xdq5'},\n",
       "  {'ri': 'ByrG9xYend',\n",
       "   'pi': 'Skf1nYQGcd',\n",
       "   'ct': '20210623T093610',\n",
       "   'cs': 59,\n",
       "   'cr': 'act_test_prod',\n",
       "   'cnf': 'application/json:0',\n",
       "   'st': 0,\n",
       "   'acpi': ['/onem2m/acp_act_test'],\n",
       "   'con': '{\"status\":\"active\",\"test_time\":\"test_time\",\"test_result\":3}',\n",
       "   'ty': 4,\n",
       "   'rn': '4-202106230936105047y6c'},\n",
       "  {'ri': 'SJf8zxKxn_',\n",
       "   'pi': 'Skf1nYQGcd',\n",
       "   'ct': '20210623T093406',\n",
       "   'cs': 71,\n",
       "   'cr': 'act_test_prod',\n",
       "   'cnf': 'application/json:0',\n",
       "   'st': 0,\n",
       "   'acpi': ['/onem2m/acp_act_test'],\n",
       "   'con': '{\"status\":\"active\",\"test_time\":\"test_time\",\"test_result\":\"test_result\"}',\n",
       "   'ty': 4,\n",
       "   'rn': '4-20210623093406461M5KU'},\n",
       "  {'ri': 'ryGMygtx3O',\n",
       "   'pi': 'Skf1nYQGcd',\n",
       "   'ct': '20210623T093314',\n",
       "   'cs': 11,\n",
       "   'cr': 'act_test_prod',\n",
       "   'cnf': 'application/json:0',\n",
       "   'st': 0,\n",
       "   'acpi': ['/onem2m/acp_act_test'],\n",
       "   'con': '{\"value\":1}',\n",
       "   'ty': 4,\n",
       "   'rn': '4-20210623093314504WPGm'},\n",
       "  {'ri': 'rJfdP3_l2_',\n",
       "   'pi': 'Skf1nYQGcd',\n",
       "   'ct': '20210623T091823',\n",
       "   'cs': 11,\n",
       "   'cr': 'act_test_prod',\n",
       "   'cnf': 'application/json:0',\n",
       "   'st': 0,\n",
       "   'acpi': ['/onem2m/acp_act_test'],\n",
       "   'con': '{\"value\":1}',\n",
       "   'ty': 4,\n",
       "   'rn': '4-202106230918238504vaN'},\n",
       "  {'ri': 'ByMLexv1nd',\n",
       "   'pi': 'Skf1nYQGcd',\n",
       "   'ct': '20210622T130445',\n",
       "   'lbl': ['smartbench', '1'],\n",
       "   'cs': 64,\n",
       "   'cr': 'act_test_prod',\n",
       "   'cnf': 'application/json:0',\n",
       "   'st': 0,\n",
       "   'acpi': ['/onem2m/acp_act_test'],\n",
       "   'con': '{\"temperature\":10.1,\"humidity\":42.1,\"pressure\":960,\"transits\":2}',\n",
       "   'ty': 4,\n",
       "   'rn': '4-20210622130445899yEfu'},\n",
       "  {'ri': 'r1UEdTUynu',\n",
       "   'pi': 'Skf1nYQGcd',\n",
       "   'ct': '20210622T125403',\n",
       "   'lbl': ['smartbench', '1'],\n",
       "   'cs': 77,\n",
       "   'cr': 'act_test_prod',\n",
       "   'cnf': 'application/json:0',\n",
       "   'st': 0,\n",
       "   'acpi': ['/onem2m/acp_act_test'],\n",
       "   'con': '{\"temperature\":10.1,\"humidity\":42.1,\"pressure\":960,\"transits\":2,\"sittings\":1}',\n",
       "   'ty': 4,\n",
       "   'rn': '4-202106221254038470yUK'},\n",
       "  {'ri': 'S1G8ucLJh_',\n",
       "   'pi': 'Skf1nYQGcd',\n",
       "   'ct': '20210622T124117',\n",
       "   'lbl': ['smartbench', '1'],\n",
       "   'cs': 108,\n",
       "   'cr': 'act_test_prod',\n",
       "   'cnf': 'application/json:0',\n",
       "   'st': 0,\n",
       "   'acpi': ['/onem2m/acp_act_test'],\n",
       "   'con': '{\"temperature\":10.1,\"humidity\":42.1,\"pressure\":960,\"transits\":2,\"sittings\":1,\"pollution\":410,\"light\":0.0997}',\n",
       "   'ty': 4,\n",
       "   'rn': '4-20210622124117719uF8P'},\n",
       "  {'ri': 'HkriQsXCsu',\n",
       "   'pi': 'Skf1nYQGcd',\n",
       "   'ct': '20210621T150715',\n",
       "   'lbl': ['status_Message', '1'],\n",
       "   'cs': 67,\n",
       "   'cr': 'act_test_prod',\n",
       "   'cnf': 'application/json:0',\n",
       "   'st': 0,\n",
       "   'acpi': ['/onem2m/acp_act_test'],\n",
       "   'con': '{\"status\":1,\"Test_Time\":2021-06-21T16:20:41.195666,\"Test_result\":5}',\n",
       "   'ty': 4,\n",
       "   'rn': '4-20210621150715145aRGo'},\n",
       "  {'ri': 'Hkzlj-UqYO',\n",
       "   'pi': 'rJfNQQEqYO',\n",
       "   'ct': '20210525T102943',\n",
       "   'cs': 5,\n",
       "   'cr': 'act_test_prod',\n",
       "   'cnf': 'text/plain:json',\n",
       "   'st': 0,\n",
       "   'acpi': ['/onem2m/acp_act_test'],\n",
       "   'con': 'value',\n",
       "   'ty': 4,\n",
       "   'rn': 'TestResult'},\n",
       "  {'ri': 'BJzDnmEqtO',\n",
       "   'pi': 'rJfNQQEqYO',\n",
       "   'ct': '20210525T082207',\n",
       "   'cs': 4,\n",
       "   'cr': 'act_test_prod',\n",
       "   'cnf': 'text/plain:json',\n",
       "   'st': 0,\n",
       "   'acpi': ['/onem2m/acp_act_test'],\n",
       "   'con': 'json',\n",
       "   'ty': 4,\n",
       "   'rn': '4-20210525082207252MGF9'}]}"
      ]
     },
     "execution_count": 31,
     "metadata": {},
     "output_type": "execute_result"
    }
   ],
   "source": [
    "### GET REQUEST FROM ICON\n",
    "API_endpoint= \"https://icon-lab.tim.it/onem2m/act_test/ACT_DetectionNode?rcn=5&ty=4\"\n",
    "\n",
    "headers= {'X-M2M-Origin': 'act_test_prod', 'X-M2M-RI': str(int(time.time())),\n",
    "         'Accept': 'application/json'}\n",
    "r= requests.get(url= API_endpoint, auth= HTTPBasicAuth('user', 'password'),\n",
    "              headers= headers)\n",
    "r.json()"
   ]
  },
  {
   "cell_type": "code",
   "execution_count": 89,
   "id": "f7284f3c",
   "metadata": {},
   "outputs": [
    {
     "data": {
      "text/plain": [
       "{'m2m:cin': {'rn': '4-20210802110534705v1bQ',\n",
       "  'ty': 4,\n",
       "  'pi': 'rJfARG3d2u',\n",
       "  'ri': 'BkzwtbUryY',\n",
       "  'ct': '20210802T110534',\n",
       "  'et': '20310802T110534',\n",
       "  'lt': '20210802T110534',\n",
       "  'st': 66,\n",
       "  'cs': 14,\n",
       "  'con': {'color': 'GR'},\n",
       "  'acpi': ['/onem2m/acp_act_test'],\n",
       "  'cnf': 'application/json:0',\n",
       "  'cr': 'act_test_prod'}}"
      ]
     },
     "execution_count": 89,
     "metadata": {},
     "output_type": "execute_result"
    }
   ],
   "source": [
    "### POST TO ICON\n",
    "API_endpoint= \"https://icon-lab.tim.it/onem2m/act_test/ACT_ControlService\"\n",
    "\n",
    "data= \"\"\"{\n",
    "  \"m2m:cin\": {\n",
    "    \"cnf\": \"application/json:0\",\n",
    "    \"con\": {\"color\":\"GR\"}\n",
    "}\n",
    "  }\"\"\"\n",
    "headers= {'X-M2M-Origin': 'act_test_prod', 'X-M2M-RI': str(int(time.time())),\n",
    "\n",
    "         'Accept': 'application/json', 'content-Type': 'application/vnd.onem2m-res+json;ty=4'}\n",
    "\n",
    "r= requests.post(url= API_endpoint, auth= HTTPBasicAuth('user', 'password'),\n",
    "\n",
    "              headers= headers, data=data)\n",
    "\n",
    "r.json()"
   ]
  },
  {
   "cell_type": "code",
   "execution_count": 7,
   "id": "7cc6d35e",
   "metadata": {
    "scrolled": true
   },
   "outputs": [
    {
     "name": "stdout",
     "output_type": "stream",
     "text": [
      "enter an integer value8\n",
      "{\"m2m:cin\": {\"cnf\": \"application/json:0\", \"con\": {\"peripherial_id\": \"4A:54:4C:23:67:B6\", \"status\": \"active\", \"test_time\": \"2021-08-29T16:46:53.835648\", \"test_result\": \"8\"}}}\n"
     ]
    }
   ],
   "source": [
    " ## ACT detection Node\n",
    "detection_service_id= 'Skf1nYQGcd'\n",
    "#when recieve a result from the testing center\n",
    "status= {'active', 'sleeping', 'out-of-service', 'restarting', \n",
    "         'maintenance-requested', 'fault'}\n",
    "test_time= datetime.now().isoformat()\n",
    "test_result= input(\"enter an integer value\")\n",
    "\n",
    "\n",
    "data= {'peripherial_id': '4A:54:4C:23:67:B6', 'status': 'active', 'test_time':test_time , 'test_result': test_result}\n",
    "# create a connection to the server\n",
    "\n",
    "new_dict= {'m2m:cin': {'cnf': 'application/json:0', 'con': data}}\n",
    "payload = json.dumps(new_dict)\n",
    "\n",
    "\n",
    "API_endpoint= \"http://127.0.0.1:5000/DetectionService\"\n",
    "\n",
    "print(payload)"
   ]
  },
  {
   "cell_type": "code",
   "execution_count": 8,
   "id": "3ca3f93f",
   "metadata": {
    "scrolled": true
   },
   "outputs": [
    {
     "data": {
      "text/plain": [
       "201"
      ]
     },
     "execution_count": 8,
     "metadata": {},
     "output_type": "execute_result"
    }
   ],
   "source": [
    "headers= { 'content-Type':  'application/json'}\n",
    "response = requests.post(url= API_endpoint, headers= headers, data= payload)\n",
    "response.status_code"
   ]
  },
  {
   "cell_type": "code",
   "execution_count": 70,
   "id": "821fcdc6",
   "metadata": {},
   "outputs": [],
   "source": [
    "End_point= \"https://icon-lab.tim.it/onem2m/act_test/ACT_ControlService\"\n",
    "data1= \"\"\"{\n",
    "  \"m2m:cin\": {\n",
    "    \"cnf\": \"application/json:0\",\n",
    "    \"con\": {\"value\":\"HellO from ICON\"}\n",
    "}\n",
    "  }\n",
    "\"\"\"\n",
    "headers= {'X-M2M-Origin': 'act_test_prod', 'X-M2M-RI': str(int(time.time())), 'content-Type': 'application/vnd.onem2m-res+json;ty=4',\n",
    "         'Accept': 'application/json'}\n",
    "response = requests.post(url= End_point,  auth= HTTPBasicAuth('user', 'password'),\n",
    "              headers= headers,data= data1)\n"
   ]
  },
  {
   "cell_type": "code",
   "execution_count": 69,
   "id": "19d43a5e",
   "metadata": {},
   "outputs": [
    {
     "data": {
      "text/plain": [
       "{'m2m:cin': {'rn': '4-20210802092357425vcM3',\n",
       "  'ty': 4,\n",
       "  'pi': 'rJfARG3d2u',\n",
       "  'ri': 'SJfS2tEBkF',\n",
       "  'ct': '20210802T092357',\n",
       "  'et': '20310802T092357',\n",
       "  'lt': '20210802T092357',\n",
       "  'st': 64,\n",
       "  'cs': 27,\n",
       "  'con': {'value': 'HellO from ICON'},\n",
       "  'acpi': ['/onem2m/acp_act_test'],\n",
       "  'cnf': 'application/json:0',\n",
       "  'cr': 'act_test_prod'}}"
      ]
     },
     "execution_count": 69,
     "metadata": {},
     "output_type": "execute_result"
    }
   ],
   "source": [
    "response.json()"
   ]
  },
  {
   "cell_type": "code",
   "execution_count": 24,
   "id": "51170559",
   "metadata": {},
   "outputs": [],
   "source": [
    "class comand(Enum):\n",
    "    RESTART= 1\n",
    "    SHUTDOWN= 2\n",
    "    SLEEP= 3\n",
    "    STATUS_REQUEST= 4\n",
    "    TEST_START= 5\n",
    "    TEST_STOP= 6\n",
    "\n",
    "def ACT_detectionNode():\n",
    "    if (Enum==RESTART):\n",
    "        comand = Enum\n",
    "        test_interval= 10\n",
    "        data= {'command': comand(1).str(), 'test_interval': test_interval}\n",
    "        return data    "
   ]
  },
  {
   "cell_type": "code",
   "execution_count": 27,
   "id": "72f90524",
   "metadata": {},
   "outputs": [
    {
     "ename": "TypeError",
     "evalue": "ACT_detectionNode() missing 1 required positional argument: 'Enum'",
     "output_type": "error",
     "traceback": [
      "\u001b[1;31m---------------------------------------------------------------------------\u001b[0m",
      "\u001b[1;31mTypeError\u001b[0m                                 Traceback (most recent call last)",
      "\u001b[1;32m<ipython-input-27-980c4c6066e3>\u001b[0m in \u001b[0;36m<module>\u001b[1;34m\u001b[0m\n\u001b[1;32m----> 1\u001b[1;33m \u001b[0mACT_detectionNode\u001b[0m\u001b[1;33m(\u001b[0m\u001b[1;33m)\u001b[0m\u001b[1;33m\u001b[0m\u001b[1;33m\u001b[0m\u001b[0m\n\u001b[0m",
      "\u001b[1;31mTypeError\u001b[0m: ACT_detectionNode() missing 1 required positional argument: 'Enum'"
     ]
    }
   ],
   "source": [
    "ACT_detectionNode()"
   ]
  },
  {
   "cell_type": "code",
   "execution_count": null,
   "id": "4a54bc1d",
   "metadata": {},
   "outputs": [],
   "source": [
    "new_dict= {'m2m:cin': {'cnf': 'application/json:0', 'con': data}}\n",
    "payload= payload = json.dumps(new_dict)\n",
    "print(payload)\n",
    "\n",
    "###API_endpoint= \"https://icon-lab.tim.it/onem2m/act_test/ACT_DetectionNode\"\n",
    "\n",
    "##headers= {'X-M2M-Origin': 'act_test_prod', 'X-M2M-RI': str(int(time.time())), 'content-Type': 'application/vnd.onem2m-res+json;ty=4',\n",
    "##         'Accept': 'application/json'}\n",
    "##response = requests.post(url= API_endpoint,  auth= HTTPBasicAuth('user', 'password'),\n",
    " ##             headers= headers,data= payload)\n",
    "##response.json()##"
   ]
  },
  {
   "cell_type": "code",
   "execution_count": null,
   "id": "6b045fc7",
   "metadata": {},
   "outputs": [],
   "source": []
  },
  {
   "cell_type": "code",
   "execution_count": 102,
   "id": "a1965b48",
   "metadata": {},
   "outputs": [
    {
     "data": {
      "text/plain": [
       "{'m2m:sub': {'rn': 'LocalNodeNotify',\n",
       "  'ty': 23,\n",
       "  'pi': 'Bkf8a_-Dh_',\n",
       "  'ri': 'B1H2qDDYJt',\n",
       "  'ct': '20210805T132852',\n",
       "  'et': '20310805T132852',\n",
       "  'lt': '20210805T132852',\n",
       "  'st': 0,\n",
       "  'nu': ['http://138.96.16.37:5002/ControlService'],\n",
       "  'acpi': ['/onem2m/acp_act_test'],\n",
       "  'enc': {'net': [3]},\n",
       "  'nct': 2,\n",
       "  'cr': 'act_test_prod'}}"
      ]
     },
     "execution_count": 102,
     "metadata": {},
     "output_type": "execute_result"
    }
   ],
   "source": [
    "## subscription\n",
    "\n",
    "End_point= \"https://icon-lab.tim.it/onem2m/act_test/ACT_LocalService\"\n",
    "data1= \"\"\"{\n",
    "  \"m2m:sub\": {\n",
    "    \"rn\": \"LocalNodeNotify\",\n",
    "    \"enc\": {\n",
    "    \"net\": [3]\n",
    "    },\n",
    "    \"nu\": [\"http://138.96.16.37:5002/ControlService\"],\n",
    "    \"nct\": 2\n",
    "    }\n",
    "  }\n",
    "\"\"\"\n",
    "headers= {'X-M2M-Origin': 'act_test_prod', 'X-M2M-RI': str(int(time.time())), 'content-Type': 'application/vnd.onem2m-res+json;ty=23',\n",
    "         'Accept': 'application/json'}\n",
    "res = requests.post(url= End_point,  auth= HTTPBasicAuth('user', 'password'),\n",
    "              headers= headers,data= data1)\n",
    "\n",
    "res.json()"
   ]
  },
  {
   "cell_type": "code",
   "execution_count": 3,
   "id": "a6d5a139",
   "metadata": {},
   "outputs": [
    {
     "data": {
      "text/plain": [
       "{'command': 'START'}"
      ]
     },
     "execution_count": 3,
     "metadata": {},
     "output_type": "execute_result"
    }
   ],
   "source": [
    "# post to my server\n",
    "\n",
    "data= \"\"\"{\"command\" : \"START\"}\"\"\"\n",
    "\n",
    "headers= {'content-Type': 'application/json'}\n",
    "\n",
    "request= requests.post(url= \"http://138.96.16.37:5000\", headers= headers, data= data)\n",
    "request.json()"
   ]
  },
  {
   "cell_type": "code",
   "execution_count": 122,
   "id": "5c886389",
   "metadata": {},
   "outputs": [],
   "source": [
    "data= {\n",
    "  \"comand\": \"START\",\n",
    "  \"m2m:sgn\": {\n",
    "    \"nec\": \"\",\n",
    "    \"net\": \"3\",\n",
    "    \"nev\": {\n",
    "      \"rep\": {\n",
    "        \"m2m:cin\": {\n",
    "          \"acpi\": [\n",
    "            \"/onem2m/acp_act_test\"\n",
    "          ],\n",
    "          \"cnf\": \"application/json:0\",\n",
    "          \"con\": {\n",
    "            \"value\": \"HellO from ICON\"\n",
    "          },\n",
    "          \"cr\": \"act_test_prod\",\n",
    "          \"cs\": 27,\n",
    "          \"ct\": \"20210729T124020\",\n",
    "          \"et\": \"20310729T124020\",\n",
    "          \"lt\": \"20210729T124020\",\n",
    "          \"pi\": \"rJfARG3d2u\",\n",
    "          \"ri\": \"rJfpnbQgyK\",\n",
    "          \"rn\": \"4-20210729124020692fIJJ\",\n",
    "          \"st\": 49,\n",
    "          \"ty\": 4\n",
    "        }\n",
    "      }\n",
    "    },\n",
    "    \"sur\": \"/onem2m/act_test/ACT_ControlService/NotifySub\"\n",
    "  }\n",
    "}"
   ]
  },
  {
   "cell_type": "code",
   "execution_count": 132,
   "id": "174b2e16",
   "metadata": {},
   "outputs": [
    {
     "name": "stdout",
     "output_type": "stream",
     "text": [
      "Hello\n"
     ]
    }
   ],
   "source": [
    "x = data['m2m:sgn']['sur']\n",
    "if(x != \"/onem2m/act_test/ACT_DetectionNode/DetectionNodeNotify\"):\n",
    "    print(\"Hello\")\n",
    "else:\n",
    "    print(x)"
   ]
  },
  {
   "cell_type": "code",
   "execution_count": null,
   "id": "bddf83a8",
   "metadata": {},
   "outputs": [],
   "source": [
    "if \"sur\" = \"/onem2m/act_test/ACT_DetectionNode/DetectionNodeNotify\" :\n",
    "        "
   ]
  }
 ],
 "metadata": {
  "kernelspec": {
   "display_name": "Python 3",
   "language": "python",
   "name": "python3"
  },
  "language_info": {
   "codemirror_mode": {
    "name": "ipython",
    "version": 3
   },
   "file_extension": ".py",
   "mimetype": "text/x-python",
   "name": "python",
   "nbconvert_exporter": "python",
   "pygments_lexer": "ipython3",
   "version": "3.8.8"
  }
 },
 "nbformat": 4,
 "nbformat_minor": 5
}
