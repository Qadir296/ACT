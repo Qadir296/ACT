{
 "cells": [
  {
   "cell_type": "code",
   "execution_count": 6,
   "id": "0d671d72",
   "metadata": {},
   "outputs": [
    {
     "name": "stdout",
     "output_type": "stream",
     "text": [
      "138.96.220.69\n"
     ]
    }
   ],
   "source": [
    "import socket               # Import socket module\n",
    "\n",
    "message= 'Hello this is the message from the client'\n",
    "z= message.encode()\n",
    "s = socket.socket()         # Create a socket object\n",
    "host = socket.gethostname() # Get local machine name\n",
    "port = 8000               # Reserve a port for your service.\n",
    "\n",
    "local_ip = socket.gethostbyname(host) # get the IP address\n",
    "             # Close the socket when done\n",
    "print(local_ip)"
   ]
  },
  {
   "cell_type": "code",
   "execution_count": 5,
   "id": "c7a76646",
   "metadata": {},
   "outputs": [
    {
     "ename": "ConnectionRefusedError",
     "evalue": "[WinError 10061] Aucune connexion n’a pu être établie car l’ordinateur cible l’a expressément refusée",
     "output_type": "error",
     "traceback": [
      "\u001b[1;31m---------------------------------------------------------------------------\u001b[0m",
      "\u001b[1;31mConnectionRefusedError\u001b[0m                    Traceback (most recent call last)",
      "\u001b[1;32m<ipython-input-5-31f720cc5d62>\u001b[0m in \u001b[0;36m<module>\u001b[1;34m\u001b[0m\n\u001b[1;32m----> 1\u001b[1;33m \u001b[0ms\u001b[0m\u001b[1;33m.\u001b[0m\u001b[0mconnect\u001b[0m\u001b[1;33m(\u001b[0m\u001b[1;33m(\u001b[0m\u001b[0mhost\u001b[0m\u001b[1;33m,\u001b[0m \u001b[0mport\u001b[0m\u001b[1;33m)\u001b[0m\u001b[1;33m)\u001b[0m\u001b[1;33m\u001b[0m\u001b[1;33m\u001b[0m\u001b[0m\n\u001b[0m\u001b[0;32m      2\u001b[0m \u001b[0ms\u001b[0m\u001b[1;33m.\u001b[0m\u001b[0msend\u001b[0m\u001b[1;33m(\u001b[0m\u001b[0mz\u001b[0m\u001b[1;33m)\u001b[0m\u001b[1;33m\u001b[0m\u001b[1;33m\u001b[0m\u001b[0m\n\u001b[0;32m      3\u001b[0m \u001b[0ms\u001b[0m\u001b[1;33m.\u001b[0m\u001b[0mclose\u001b[0m\u001b[1;33m(\u001b[0m\u001b[1;33m)\u001b[0m\u001b[1;33m\u001b[0m\u001b[1;33m\u001b[0m\u001b[0m\n",
      "\u001b[1;31mConnectionRefusedError\u001b[0m: [WinError 10061] Aucune connexion n’a pu être établie car l’ordinateur cible l’a expressément refusée"
     ]
    }
   ],
   "source": [
    "s.connect((host, port))\n",
    "s.send(z)\n",
    "s.close()        "
   ]
  },
  {
   "cell_type": "code",
   "execution_count": 2,
   "id": "e2d52751",
   "metadata": {},
   "outputs": [],
   "source": [
    "import requests\n",
    "import json\n",
    "import time\n",
    "from requests.auth import HTTPBasicAuth\n",
    "import pygeohash as pgh\n",
    "import socket\n",
    "from datetime import datetime\n",
    "from enum import Enum\n"
   ]
  },
  {
   "cell_type": "code",
   "execution_count": 8,
   "id": "c4984105",
   "metadata": {},
   "outputs": [
    {
     "name": "stdout",
     "output_type": "stream",
     "text": [
      "enter the Pheripheral IDrtt\n",
      "enter the result recordedggg\n"
     ]
    }
   ],
   "source": [
    "class DetectionData():\n",
    "    pheripheral_Id = input(\"enter the Pheripheral ID\")\n",
    "    status = ['active', 'sleeping', 'out-of-service', 'restarting', \n",
    "    'maintenance-requested', 'fault']\n",
    "    test_time = datetime.now().isoformat()\n",
    "    test_result = input(\"enter the result recorded\")\n",
    "    new_dict= {'status': status[0], 'Test_Time' : test_time, 'Test_Result': test_result}\n",
    "    data= {pheripheral_Id : new_dict}"
   ]
  },
  {
   "cell_type": "code",
   "execution_count": 14,
   "id": "ea5dfc45",
   "metadata": {},
   "outputs": [
    {
     "name": "stdout",
     "output_type": "stream",
     "text": [
      "<class '__main__.DetectionData'>\n"
     ]
    }
   ],
   "source": [
    "print(DetectionData)"
   ]
  },
  {
   "cell_type": "code",
   "execution_count": 180,
   "id": "7f0998d3",
   "metadata": {},
   "outputs": [],
   "source": [
    "data= {\n",
    "  \"m2m:sgn\": {\n",
    "    \"nec\": \"\",\n",
    "    \"net\": \"3\",\n",
    "    \"nev\": {\n",
    "      \"rep\": {\n",
    "        \"m2m:cin\": {\n",
    "          \"acpi\": [\n",
    "            \"/onem2m/acp_act_test\"\n",
    "          ],\n",
    "          \"cnf\": \"application/json:0\",\n",
    "          \"con\": {\n",
    "            \"value\": \"HellO from ICON\"\n",
    "          },\n",
    "          \"cr\": \"act_test_prod\",\n",
    "          \"cs\": 27,\n",
    "          \"ct\": \"20210729T124020\",\n",
    "          \"et\": \"20310729T124020\",\n",
    "          \"lt\": \"20210729T124020\",\n",
    "          \"pi\": \"rJfARG3d2u\",\n",
    "          \"ri\": \"rJfpnbQgyK\",\n",
    "          \"rn\": \"4-20210729124020692fIJJ\",\n",
    "          \"st\": 49,\n",
    "          \"ty\": 4\n",
    "        }\n",
    "      }\n",
    "    },\n",
    "    \"sur\": \"/onem2m/act_test/ACT_ControlService/NotifySub\"\n",
    "  }\n",
    "}"
   ]
  },
  {
   "cell_type": "code",
   "execution_count": 199,
   "id": "3dc50212",
   "metadata": {},
   "outputs": [
    {
     "name": "stdout",
     "output_type": "stream",
     "text": [
      "nec\n",
      "net\n",
      "nev\n",
      "sur\n",
      "['nec', 'net', 'nev', 'sur']\n"
     ]
    }
   ],
   "source": [
    "list = []\n",
    "for i in data['m2m:sgn']:\n",
    "    list.append(i)\n",
    "    print(i)\n",
    "print (list)"
   ]
  },
  {
   "cell_type": "code",
   "execution_count": 188,
   "id": "6e066c4f",
   "metadata": {},
   "outputs": [
    {
     "name": "stdout",
     "output_type": "stream",
     "text": [
      "comand : START\n",
      "nec : \n",
      "net : 3\n",
      "acpi : ['/onem2m/acp_act_test']\n",
      "cnf : application/json:0\n",
      "value : HellO from ICON\n",
      "cr : act_test_prod\n",
      "cs : 27\n",
      "ct : 20210729T124020\n",
      "et : 20310729T124020\n",
      "lt : 20210729T124020\n",
      "pi : rJfARG3d2u\n",
      "ri : rJfpnbQgyK\n",
      "rn : 4-20210729124020692fIJJ\n",
      "st : 49\n",
      "ty : 4\n",
      "sur : /onem2m/act_test/ACT_ControlService/NotifySub\n"
     ]
    }
   ],
   "source": [
    "def iterdict(d):\n",
    "    for k,v in d.items():        \n",
    "        if isinstance(v, dict):\n",
    "            iterdict(v)\n",
    "        else:\n",
    "            print (k,\":\",v)\n",
    "\n",
    "iterdict(data)"
   ]
  },
  {
   "cell_type": "code",
   "execution_count": 189,
   "id": "9bd58261",
   "metadata": {},
   "outputs": [
    {
     "name": "stdout",
     "output_type": "stream",
     "text": [
      "<class 'dict'>\n",
      "<class 'list'>\n",
      "['', '3', {'rep': {'m2m:cin': {'acpi': ['/onem2m/acp_act_test'], 'cnf': 'application/json:0', 'con': {'value': 'HellO from ICON'}, 'cr': 'act_test_prod', 'cs': 27, 'ct': '20210729T124020', 'et': '20310729T124020', 'lt': '20210729T124020', 'pi': 'rJfARG3d2u', 'ri': 'rJfpnbQgyK', 'rn': '4-20210729124020692fIJJ', 'st': 49, 'ty': 4}}}, '/onem2m/act_test/ACT_ControlService/NotifySub']\n"
     ]
    }
   ],
   "source": [
    "x= data[\"m2m:sgn\"]\n",
    "print(f'{type(x)}')\n",
    "y=list(x.values())\n",
    "print(f'{type(y)}')\n",
    "print(y)"
   ]
  },
  {
   "cell_type": "code",
   "execution_count": 104,
   "id": "62b2eac5",
   "metadata": {},
   "outputs": [
    {
     "name": "stdout",
     "output_type": "stream",
     "text": [
      "A:  comand\n"
     ]
    },
    {
     "ename": "KeyError",
     "evalue": "('comand', 'S')",
     "output_type": "error",
     "traceback": [
      "\u001b[1;31m---------------------------------------------------------------------------\u001b[0m",
      "\u001b[1;31mKeyError\u001b[0m                                  Traceback (most recent call last)",
      "\u001b[1;32m<ipython-input-104-a44c20a57e80>\u001b[0m in \u001b[0;36m<module>\u001b[1;34m\u001b[0m\n\u001b[0;32m      2\u001b[0m     \u001b[0mprint\u001b[0m\u001b[1;33m(\u001b[0m\u001b[1;34m\"A: \"\u001b[0m\u001b[1;33m,\u001b[0m \u001b[0ma\u001b[0m\u001b[1;33m)\u001b[0m\u001b[1;33m\u001b[0m\u001b[1;33m\u001b[0m\u001b[0m\n\u001b[0;32m      3\u001b[0m     \u001b[1;32mfor\u001b[0m \u001b[0mb\u001b[0m \u001b[1;32min\u001b[0m \u001b[0mdata\u001b[0m\u001b[1;33m[\u001b[0m\u001b[0ma\u001b[0m\u001b[1;33m]\u001b[0m\u001b[1;33m:\u001b[0m\u001b[1;33m\u001b[0m\u001b[1;33m\u001b[0m\u001b[0m\n\u001b[1;32m----> 4\u001b[1;33m         \u001b[0mprint\u001b[0m\u001b[1;33m(\u001b[0m\u001b[1;34m\"b\"\u001b[0m \u001b[1;33m,\u001b[0m \u001b[0mdata\u001b[0m\u001b[1;33m[\u001b[0m\u001b[0ma\u001b[0m\u001b[1;33m,\u001b[0m\u001b[0mb\u001b[0m\u001b[1;33m]\u001b[0m\u001b[1;33m)\u001b[0m\u001b[1;33m\u001b[0m\u001b[1;33m\u001b[0m\u001b[0m\n\u001b[0m\u001b[0;32m      5\u001b[0m     \u001b[1;31m#for b in data[a]:\u001b[0m\u001b[1;33m\u001b[0m\u001b[1;33m\u001b[0m\u001b[1;33m\u001b[0m\u001b[0m\n\u001b[0;32m      6\u001b[0m      \u001b[1;31m#   print(\" b: \", b)\u001b[0m\u001b[1;33m\u001b[0m\u001b[1;33m\u001b[0m\u001b[1;33m\u001b[0m\u001b[0m\n",
      "\u001b[1;31mKeyError\u001b[0m: ('comand', 'S')"
     ]
    }
   ],
   "source": [
    "for a in data:\n",
    "    print(\"A: \", a)\n",
    "    for b in data[a]:\n",
    "    #for b in data[a]:\n",
    "     #   print(\" b: \", b)"
   ]
  },
  {
   "cell_type": "code",
   "execution_count": 87,
   "id": "e8610e4c",
   "metadata": {},
   "outputs": [
    {
     "name": "stdout",
     "output_type": "stream",
     "text": [
      "\n",
      "Keys: comand\n"
     ]
    },
    {
     "ename": "TypeError",
     "evalue": "'str' object is not callable",
     "output_type": "error",
     "traceback": [
      "\u001b[1;31m---------------------------------------------------------------------------\u001b[0m",
      "\u001b[1;31mTypeError\u001b[0m                                 Traceback (most recent call last)",
      "\u001b[1;32m<ipython-input-87-6cb655711acf>\u001b[0m in \u001b[0;36m<module>\u001b[1;34m\u001b[0m\n\u001b[0;32m      2\u001b[0m     \u001b[0mprint\u001b[0m\u001b[1;33m(\u001b[0m\u001b[1;34m\"\\nKeys:\"\u001b[0m\u001b[1;33m,\u001b[0m \u001b[0mp_id\u001b[0m\u001b[1;33m)\u001b[0m\u001b[1;33m\u001b[0m\u001b[1;33m\u001b[0m\u001b[0m\n\u001b[0;32m      3\u001b[0m     \u001b[1;32mfor\u001b[0m \u001b[0mk\u001b[0m \u001b[1;32min\u001b[0m \u001b[0mp_info\u001b[0m\u001b[1;33m:\u001b[0m\u001b[1;33m\u001b[0m\u001b[1;33m\u001b[0m\u001b[0m\n\u001b[1;32m----> 4\u001b[1;33m         \u001b[0mprint\u001b[0m\u001b[1;33m(\u001b[0m\u001b[0mk\u001b[0m \u001b[1;33m+\u001b[0m \u001b[1;34m\":\"\u001b[0m \u001b[1;33m,\u001b[0m \u001b[0mp_info\u001b[0m\u001b[1;33m(\u001b[0m\u001b[0mk\u001b[0m\u001b[1;33m)\u001b[0m\u001b[1;33m)\u001b[0m\u001b[1;33m\u001b[0m\u001b[1;33m\u001b[0m\u001b[0m\n\u001b[0m",
      "\u001b[1;31mTypeError\u001b[0m: 'str' object is not callable"
     ]
    }
   ],
   "source": [
    "for p_id, p_info in data.items():\n",
    "    print(\"\\nKeys:\", p_id)\n",
    "    for k in p_info:\n",
    "        print(k + \":\" , p_info(k))"
   ]
  },
  {
   "cell_type": "code",
   "execution_count": 53,
   "id": "8016c67f",
   "metadata": {},
   "outputs": [],
   "source": [
    "data = {\n",
    "  \"m2m:sgn\": {\n",
    "    \"nec\": \"\",\n",
    "    \"net\": \"3\",\n",
    "    \"nev\": {\n",
    "      \"rep\": {\n",
    "        \"m2m:cin\": {\n",
    "          \"acpi\": [\n",
    "            \"/onem2m/acp_act_test\"\n",
    "          ],\n",
    "          \"cnf\": \"application/json:0\",\n",
    "          \"con\": {\n",
    "            \"DetectionNodeData\": {\n",
    "        \"peripherial_id\": \"4A:54:4C:23:67\",\n",
    "        \"status\": \"active\",\n",
    "        \"test_result\": \"8\",\n",
    "        \"test_time\": \"2021-08-05T14:01:07.099802\"\n",
    "    },\n",
    "    \"Disinfection\": True,\n",
    "    \"Disinfection_Time\": \"2021-08-05T14:01:11.520674\",\n",
    "    \"location\": \"ezs42e44yx96\"\n",
    "          },\n",
    "          \"cr\": \"act_test_prod\",\n",
    "          \"cs\": 112,\n",
    "          \"ct\": \"20210805T120112\",\n",
    "          \"et\": \"20310805T120112\",\n",
    "          \"lt\": \"20210805T120112\",\n",
    "          \"pi\": \"Skf1nYQGcd\",\n",
    "          \"ri\": \"HJz-MQItJF\",\n",
    "          \"rn\": \"4-20210805120112678nI0k\",\n",
    "          \"ty\": 4\n",
    "        }\n",
    "      }\n",
    "    },\n",
    "    \"sur\": \"/onem2m/act_test/ACT_DetectionNode/DetectionNodeNotify\"\n",
    "  }\n",
    "}"
   ]
  },
  {
   "cell_type": "code",
   "execution_count": 60,
   "id": "cc98f885",
   "metadata": {},
   "outputs": [
    {
     "name": "stdout",
     "output_type": "stream",
     "text": [
      "8\n",
      "['Red', 2021-03-22T10:00:00+0900 - 2021-03-22T10:10:00+0900, 'Message from National Health Service']\n"
     ]
    }
   ],
   "source": [
    "from datetimerange import DateTimeRange\n",
    "\n",
    "result= []\n",
    "List= []\n",
    "x = data['m2m:sgn']['nev']['rep']['m2m:cin']['con']\n",
    "location = x['location']\n",
    "y= x['DetectionNodeData']\n",
    "\n",
    "location = x['location']\n",
    "print (test_result)\n",
    "\n",
    "if int(y['test_result']) < 5:\n",
    "    forecast = 'Green'\n",
    "    result.append(forecast)\n",
    "else:\n",
    "    forecast = 'Red'\n",
    "    result.append(forecast)\n",
    "forecast_time = DateTimeRange(\"2021-03-22T10:00:00+0900\", \"2021-03-22T10:10:00+0900\")\n",
    "message = \"Message from National Health Service\"\n",
    "result.append(forecast_time)\n",
    "result.append(message)\n",
    "\n",
    "print(result)"
   ]
  },
  {
   "cell_type": "code",
   "execution_count": 219,
   "id": "d3fa9294",
   "metadata": {},
   "outputs": [],
   "source": [
    "def ControlserviceData(message):\n",
    "        x = message['m2m:sgn']['nev']['rep']['m2m:cin']['con']\n",
    "        location = x['location']\n",
    "        data = {location: x}\n",
    "        List.append(data)"
   ]
  },
  {
   "cell_type": "code",
   "execution_count": 224,
   "id": "ad9bd4bc",
   "metadata": {},
   "outputs": [
    {
     "data": {
      "text/plain": [
       "[{'ezs42e44yx96': {'DetectionNodeData': {'peripherial_id': '4A:54:4C:23:67',\n",
       "    'status': 'active',\n",
       "    'test_result': '8',\n",
       "    'test_time': '2021-08-05T14:01:07.099802'},\n",
       "   'Disinfection': True,\n",
       "   'Disinfection_Time': '2021-08-05T14:01:11.520674',\n",
       "   'location': 'ezs42e44yx96'}}]"
      ]
     },
     "execution_count": 224,
     "metadata": {},
     "output_type": "execute_result"
    }
   ],
   "source": [
    "ControlserviceData(data)\n",
    "List"
   ]
  },
  {
   "cell_type": "code",
   "execution_count": null,
   "id": "26a54d7c",
   "metadata": {},
   "outputs": [],
   "source": []
  },
  {
   "cell_type": "code",
   "execution_count": 225,
   "id": "8a9e3944",
   "metadata": {},
   "outputs": [],
   "source": [
    "def get_location_info(s):\n",
    "    for s in List:\n",
    "        print (s)"
   ]
  },
  {
   "cell_type": "code",
   "execution_count": 226,
   "id": "48f6b49f",
   "metadata": {},
   "outputs": [
    {
     "name": "stdout",
     "output_type": "stream",
     "text": [
      "{'ezs42e44yx96': {'DetectionNodeData': {'peripherial_id': '4A:54:4C:23:67', 'status': 'active', 'test_result': '8', 'test_time': '2021-08-05T14:01:07.099802'}, 'Disinfection': True, 'Disinfection_Time': '2021-08-05T14:01:11.520674', 'location': 'ezs42e44yx96'}}\n"
     ]
    }
   ],
   "source": [
    "get_location_info('ezs42e44yx96')"
   ]
  },
  {
   "cell_type": "code",
   "execution_count": null,
   "id": "8e3b6a4c",
   "metadata": {},
   "outputs": [],
   "source": []
  },
  {
   "cell_type": "code",
   "execution_count": null,
   "id": "36199b3c",
   "metadata": {},
   "outputs": [],
   "source": []
  },
  {
   "cell_type": "code",
   "execution_count": 1,
   "id": "57e3861f",
   "metadata": {},
   "outputs": [
    {
     "name": "stdout",
     "output_type": "stream",
     "text": [
      "Enter the length of the Rectangle: 500\n",
      "Enter the width of the Rectangle: 200\n"
     ]
    }
   ],
   "source": [
    "# draw Rectangle in Python Turtle\n",
    "import turtle\n",
    "\n",
    "t = turtle.Turtle()\n",
    "\n",
    "l = int(input(\"Enter the length of the Rectangle: \"))\n",
    "w = int(input(\"Enter the width of the Rectangle: \"))\n",
    "\n",
    "for _ in range(4):\n",
    "\n",
    "    # drawing length\n",
    "    if _% 2 == 0:\n",
    "        t.forward(l) # Forward turtle by l units\n",
    "        t.left(90) # Turn turtle by 90 degree\n",
    "\n",
    "    # drawing width\n",
    "    else:\n",
    "        t.forward(w) # Forward turtle by w units\n",
    "        t.left(90) # Turn turtle by 90 degree\n"
   ]
  },
  {
   "cell_type": "code",
   "execution_count": 6,
   "id": "89cdd77a",
   "metadata": {
    "scrolled": true
   },
   "outputs": [
    {
     "data": {
      "text/plain": [
       "[6]"
      ]
     },
     "execution_count": 6,
     "metadata": {},
     "output_type": "execute_result"
    }
   ],
   "source": [
    "import random\n",
    "random.sample(range(1, 10), 1)"
   ]
  },
  {
   "cell_type": "code",
   "execution_count": 64,
   "id": "4071dcb1",
   "metadata": {},
   "outputs": [],
   "source": [
    "## for BSSIDs\n",
    "from randmac import RandMac\n",
    "\n",
    "BSSID = []\n",
    "def Generate_BSSID(n):\n",
    "    example_mac = \"00:00:00:00:00:00\"\n",
    "    for i in range(n):\n",
    "        generated_bssid = RandMac(example_mac)\n",
    "        BSSID.append(generated_bssid)\n",
    "    return [BSSID]"
   ]
  },
  {
   "cell_type": "code",
   "execution_count": 65,
   "id": "93672343",
   "metadata": {},
   "outputs": [
    {
     "data": {
      "text/plain": [
       "[['86:56:56:20:a5:2a',\n",
       "  'a6:e6:88:65:8c:f7',\n",
       "  '36:ea:44:f6:bf:52',\n",
       "  'ce:da:fe:68:d2:9b',\n",
       "  'f6:00:25:50:2b:fc',\n",
       "  '6e:5a:1a:37:61:09',\n",
       "  'ba:d7:76:a0:fa:ef',\n",
       "  '46:2a:c4:ce:16:eb',\n",
       "  '66:db:04:84:c9:9b',\n",
       "  '26:9e:a6:e0:e0:a4']]"
      ]
     },
     "execution_count": 65,
     "metadata": {},
     "output_type": "execute_result"
    }
   ],
   "source": [
    "Generate_BSSID(10)"
   ]
  },
  {
   "cell_type": "code",
   "execution_count": 7,
   "id": "abb21faf",
   "metadata": {},
   "outputs": [
    {
     "name": "stdout",
     "output_type": "stream",
     "text": [
      "{\"m2m:cin\": {\"cnf\": \"application/json:0\", \"con\": {\"peripherial_id\": \"12:1e:23:f5:42:b9\", \"status\": \"active\", \"test_time\": \"2021-08-13T14:10:04.122103\", \"test_result\": \"[7]\"}}}\n",
      "{\"m2m:cin\": {\"cnf\": \"application/json:0\", \"con\": {\"peripherial_id\": \"22:2a:78:32:23:40\", \"status\": \"active\", \"test_time\": \"2021-08-13T14:10:10.130351\", \"test_result\": \"[4]\"}}}\n",
      "{\"m2m:cin\": {\"cnf\": \"application/json:0\", \"con\": {\"peripherial_id\": \"7e:17:70:b6:71:90\", \"status\": \"active\", \"test_time\": \"2021-08-13T14:10:16.131593\", \"test_result\": \"[1]\"}}}\n",
      "{\"m2m:cin\": {\"cnf\": \"application/json:0\", \"con\": {\"peripherial_id\": \"06:c8:97:a2:50:3c\", \"status\": \"active\", \"test_time\": \"2021-08-13T14:10:22.143848\", \"test_result\": \"[6]\"}}}\n",
      "{\"m2m:cin\": {\"cnf\": \"application/json:0\", \"con\": {\"peripherial_id\": \"72:56:5b:2a:57:3d\", \"status\": \"active\", \"test_time\": \"2021-08-13T14:10:28.151519\", \"test_result\": \"[6]\"}}}\n",
      "{\"m2m:cin\": {\"cnf\": \"application/json:0\", \"con\": {\"peripherial_id\": \"b6:83:2e:88:dd:f9\", \"status\": \"active\", \"test_time\": \"2021-08-13T14:10:34.159341\", \"test_result\": \"[1]\"}}}\n",
      "{\"m2m:cin\": {\"cnf\": \"application/json:0\", \"con\": {\"peripherial_id\": \"e6:37:f9:f9:d0:50\", \"status\": \"active\", \"test_time\": \"2021-08-13T14:10:40.166264\", \"test_result\": \"[4]\"}}}\n",
      "{\"m2m:cin\": {\"cnf\": \"application/json:0\", \"con\": {\"peripherial_id\": \"4e:46:c3:f0:df:78\", \"status\": \"active\", \"test_time\": \"2021-08-13T14:10:46.173803\", \"test_result\": \"[3]\"}}}\n",
      "{\"m2m:cin\": {\"cnf\": \"application/json:0\", \"con\": {\"peripherial_id\": \"1e:da:fc:2b:e2:10\", \"status\": \"active\", \"test_time\": \"2021-08-13T14:10:52.181290\", \"test_result\": \"[5]\"}}}\n",
      "{\"m2m:cin\": {\"cnf\": \"application/json:0\", \"con\": {\"peripherial_id\": \"b6:85:b4:e4:ab:3c\", \"status\": \"active\", \"test_time\": \"2021-08-13T14:10:58.187368\", \"test_result\": \"[1]\"}}}\n",
      "{\"m2m:cin\": {\"cnf\": \"application/json:0\", \"con\": {\"peripherial_id\": \"ca:8e:30:b1:72:41\", \"status\": \"active\", \"test_time\": \"2021-08-13T14:11:04.194989\", \"test_result\": \"[6]\"}}}\n",
      "{\"m2m:cin\": {\"cnf\": \"application/json:0\", \"con\": {\"peripherial_id\": \"2a:d3:0c:66:bd:90\", \"status\": \"active\", \"test_time\": \"2021-08-13T14:11:10.202479\", \"test_result\": \"[4]\"}}}\n",
      "{\"m2m:cin\": {\"cnf\": \"application/json:0\", \"con\": {\"peripherial_id\": \"5a:d6:42:d7:e0:24\", \"status\": \"active\", \"test_time\": \"2021-08-13T14:11:16.209280\", \"test_result\": \"[1]\"}}}\n",
      "{\"m2m:cin\": {\"cnf\": \"application/json:0\", \"con\": {\"peripherial_id\": \"ba:bb:12:51:0c:33\", \"status\": \"active\", \"test_time\": \"2021-08-13T14:11:22.216083\", \"test_result\": \"[6]\"}}}\n",
      "{\"m2m:cin\": {\"cnf\": \"application/json:0\", \"con\": {\"peripherial_id\": \"06:16:52:3a:16:e5\", \"status\": \"active\", \"test_time\": \"2021-08-13T14:11:28.223871\", \"test_result\": \"[1]\"}}}\n",
      "{\"m2m:cin\": {\"cnf\": \"application/json:0\", \"con\": {\"peripherial_id\": \"7a:52:5b:fa:86:a1\", \"status\": \"active\", \"test_time\": \"2021-08-13T14:11:34.231598\", \"test_result\": \"[4]\"}}}\n",
      "{\"m2m:cin\": {\"cnf\": \"application/json:0\", \"con\": {\"peripherial_id\": \"22:60:93:49:62:83\", \"status\": \"active\", \"test_time\": \"2021-08-13T14:11:40.236676\", \"test_result\": \"[5]\"}}}\n",
      "{\"m2m:cin\": {\"cnf\": \"application/json:0\", \"con\": {\"peripherial_id\": \"7e:46:24:09:11:ec\", \"status\": \"active\", \"test_time\": \"2021-08-13T14:11:46.237045\", \"test_result\": \"[6]\"}}}\n",
      "{\"m2m:cin\": {\"cnf\": \"application/json:0\", \"con\": {\"peripherial_id\": \"da:f0:0a:dd:73:20\", \"status\": \"active\", \"test_time\": \"2021-08-13T14:11:52.249455\", \"test_result\": \"[4]\"}}}\n",
      "{\"m2m:cin\": {\"cnf\": \"application/json:0\", \"con\": {\"peripherial_id\": \"fe:29:f0:14:c3:fe\", \"status\": \"active\", \"test_time\": \"2021-08-13T14:11:58.251932\", \"test_result\": \"[8]\"}}}\n",
      "{\"m2m:cin\": {\"cnf\": \"application/json:0\", \"con\": {\"peripherial_id\": \"aa:08:6b:53:59:a2\", \"status\": \"active\", \"test_time\": \"2021-08-13T14:12:04.266944\", \"test_result\": \"[2]\"}}}\n",
      "{\"m2m:cin\": {\"cnf\": \"application/json:0\", \"con\": {\"peripherial_id\": \"aa:c2:10:1d:fb:aa\", \"status\": \"active\", \"test_time\": \"2021-08-13T14:12:10.275740\", \"test_result\": \"[2]\"}}}\n",
      "{\"m2m:cin\": {\"cnf\": \"application/json:0\", \"con\": {\"peripherial_id\": \"aa:b7:c4:15:60:9d\", \"status\": \"active\", \"test_time\": \"2021-08-13T14:12:16.283122\", \"test_result\": \"[6]\"}}}\n",
      "{\"m2m:cin\": {\"cnf\": \"application/json:0\", \"con\": {\"peripherial_id\": \"5a:07:66:dc:19:40\", \"status\": \"active\", \"test_time\": \"2021-08-13T14:12:22.290159\", \"test_result\": \"[6]\"}}}\n",
      "{\"m2m:cin\": {\"cnf\": \"application/json:0\", \"con\": {\"peripherial_id\": \"0a:c6:a3:11:70:aa\", \"status\": \"active\", \"test_time\": \"2021-08-13T14:12:28.299659\", \"test_result\": \"[8]\"}}}\n",
      "{\"m2m:cin\": {\"cnf\": \"application/json:0\", \"con\": {\"peripherial_id\": \"46:5b:6c:e9:99:9e\", \"status\": \"active\", \"test_time\": \"2021-08-13T14:12:34.303480\", \"test_result\": \"[6]\"}}}\n",
      "{\"m2m:cin\": {\"cnf\": \"application/json:0\", \"con\": {\"peripherial_id\": \"ea:33:bd:9b:de:e7\", \"status\": \"active\", \"test_time\": \"2021-08-13T14:12:40.309806\", \"test_result\": \"[8]\"}}}\n",
      "{\"m2m:cin\": {\"cnf\": \"application/json:0\", \"con\": {\"peripherial_id\": \"fe:7c:5d:a3:51:23\", \"status\": \"active\", \"test_time\": \"2021-08-13T14:12:46.310351\", \"test_result\": \"[2]\"}}}\n",
      "{\"m2m:cin\": {\"cnf\": \"application/json:0\", \"con\": {\"peripherial_id\": \"02:d8:31:a5:0a:ad\", \"status\": \"active\", \"test_time\": \"2021-08-13T14:12:52.314793\", \"test_result\": \"[8]\"}}}\n",
      "{\"m2m:cin\": {\"cnf\": \"application/json:0\", \"con\": {\"peripherial_id\": \"a6:81:8b:7d:aa:19\", \"status\": \"active\", \"test_time\": \"2021-08-13T14:12:58.318797\", \"test_result\": \"[1]\"}}}\n",
      "{\"m2m:cin\": {\"cnf\": \"application/json:0\", \"con\": {\"peripherial_id\": \"9a:9c:07:f0:37:6c\", \"status\": \"active\", \"test_time\": \"2021-08-13T14:13:04.322076\", \"test_result\": \"[8]\"}}}\n",
      "{\"m2m:cin\": {\"cnf\": \"application/json:0\", \"con\": {\"peripherial_id\": \"3a:56:a2:47:c8:34\", \"status\": \"active\", \"test_time\": \"2021-08-13T14:13:10.327180\", \"test_result\": \"[9]\"}}}\n",
      "{\"m2m:cin\": {\"cnf\": \"application/json:0\", \"con\": {\"peripherial_id\": \"d6:04:9d:4e:49:d6\", \"status\": \"active\", \"test_time\": \"2021-08-13T14:13:16.337381\", \"test_result\": \"[9]\"}}}\n",
      "{\"m2m:cin\": {\"cnf\": \"application/json:0\", \"con\": {\"peripherial_id\": \"d6:dc:36:8f:53:91\", \"status\": \"active\", \"test_time\": \"2021-08-13T14:13:22.344696\", \"test_result\": \"[2]\"}}}\n",
      "{\"m2m:cin\": {\"cnf\": \"application/json:0\", \"con\": {\"peripherial_id\": \"26:84:e7:53:7a:86\", \"status\": \"active\", \"test_time\": \"2021-08-13T14:13:28.351484\", \"test_result\": \"[5]\"}}}\n",
      "{\"m2m:cin\": {\"cnf\": \"application/json:0\", \"con\": {\"peripherial_id\": \"6a:4d:8a:8f:4c:0b\", \"status\": \"active\", \"test_time\": \"2021-08-13T14:13:34.355435\", \"test_result\": \"[9]\"}}}\n",
      "{\"m2m:cin\": {\"cnf\": \"application/json:0\", \"con\": {\"peripherial_id\": \"92:60:c7:76:12:99\", \"status\": \"active\", \"test_time\": \"2021-08-13T14:13:40.365998\", \"test_result\": \"[7]\"}}}\n",
      "{\"m2m:cin\": {\"cnf\": \"application/json:0\", \"con\": {\"peripherial_id\": \"2a:44:c1:0e:20:89\", \"status\": \"active\", \"test_time\": \"2021-08-13T14:13:46.372808\", \"test_result\": \"[9]\"}}}\n",
      "{\"m2m:cin\": {\"cnf\": \"application/json:0\", \"con\": {\"peripherial_id\": \"5a:37:b5:fa:d1:a7\", \"status\": \"active\", \"test_time\": \"2021-08-13T14:13:52.380760\", \"test_result\": \"[4]\"}}}\n",
      "{\"m2m:cin\": {\"cnf\": \"application/json:0\", \"con\": {\"peripherial_id\": \"92:f3:3b:9c:a5:7b\", \"status\": \"active\", \"test_time\": \"2021-08-13T14:13:58.382057\", \"test_result\": \"[6]\"}}}\n",
      "{\"m2m:cin\": {\"cnf\": \"application/json:0\", \"con\": {\"peripherial_id\": \"2a:94:d4:00:43:8b\", \"status\": \"active\", \"test_time\": \"2021-08-13T14:14:04.393798\", \"test_result\": \"[3]\"}}}\n",
      "{\"m2m:cin\": {\"cnf\": \"application/json:0\", \"con\": {\"peripherial_id\": \"72:79:d9:3f:2d:df\", \"status\": \"active\", \"test_time\": \"2021-08-13T14:14:10.401553\", \"test_result\": \"[2]\"}}}\n",
      "{\"m2m:cin\": {\"cnf\": \"application/json:0\", \"con\": {\"peripherial_id\": \"52:2b:96:22:24:45\", \"status\": \"active\", \"test_time\": \"2021-08-13T14:14:16.409592\", \"test_result\": \"[6]\"}}}\n",
      "{\"m2m:cin\": {\"cnf\": \"application/json:0\", \"con\": {\"peripherial_id\": \"c2:4a:80:b0:32:6c\", \"status\": \"active\", \"test_time\": \"2021-08-13T14:14:22.419687\", \"test_result\": \"[1]\"}}}\n",
      "{\"m2m:cin\": {\"cnf\": \"application/json:0\", \"con\": {\"peripherial_id\": \"e6:55:90:55:b8:dd\", \"status\": \"active\", \"test_time\": \"2021-08-13T14:14:28.424041\", \"test_result\": \"[5]\"}}}\n",
      "{\"m2m:cin\": {\"cnf\": \"application/json:0\", \"con\": {\"peripherial_id\": \"5a:26:41:bf:36:ff\", \"status\": \"active\", \"test_time\": \"2021-08-13T14:14:34.431180\", \"test_result\": \"[4]\"}}}\n",
      "{\"m2m:cin\": {\"cnf\": \"application/json:0\", \"con\": {\"peripherial_id\": \"9e:cb:84:ff:39:2e\", \"status\": \"active\", \"test_time\": \"2021-08-13T14:14:40.438370\", \"test_result\": \"[3]\"}}}\n"
     ]
    },
    {
     "name": "stdout",
     "output_type": "stream",
     "text": [
      "{\"m2m:cin\": {\"cnf\": \"application/json:0\", \"con\": {\"peripherial_id\": \"aa:44:5b:a6:ae:f4\", \"status\": \"active\", \"test_time\": \"2021-08-13T14:14:46.445661\", \"test_result\": \"[9]\"}}}\n",
      "{\"m2m:cin\": {\"cnf\": \"application/json:0\", \"con\": {\"peripherial_id\": \"46:65:6a:2d:10:93\", \"status\": \"active\", \"test_time\": \"2021-08-13T14:14:52.446567\", \"test_result\": \"[2]\"}}}\n",
      "{\"m2m:cin\": {\"cnf\": \"application/json:0\", \"con\": {\"peripherial_id\": \"9e:ae:4e:c8:a9:4a\", \"status\": \"active\", \"test_time\": \"2021-08-13T14:14:58.460095\", \"test_result\": \"[6]\"}}}\n",
      "{\"m2m:cin\": {\"cnf\": \"application/json:0\", \"con\": {\"peripherial_id\": \"f6:89:bb:e1:5f:79\", \"status\": \"active\", \"test_time\": \"2021-08-13T14:15:04.464077\", \"test_result\": \"[5]\"}}}\n",
      "{\"m2m:cin\": {\"cnf\": \"application/json:0\", \"con\": {\"peripherial_id\": \"a2:1c:09:1d:14:a9\", \"status\": \"active\", \"test_time\": \"2021-08-13T14:15:10.466903\", \"test_result\": \"[9]\"}}}\n",
      "{\"m2m:cin\": {\"cnf\": \"application/json:0\", \"con\": {\"peripherial_id\": \"fe:ab:ed:08:ec:c0\", \"status\": \"active\", \"test_time\": \"2021-08-13T14:15:16.486402\", \"test_result\": \"[6]\"}}}\n",
      "{\"m2m:cin\": {\"cnf\": \"application/json:0\", \"con\": {\"peripherial_id\": \"4e:03:3a:63:e4:25\", \"status\": \"active\", \"test_time\": \"2021-08-13T14:15:22.489378\", \"test_result\": \"[4]\"}}}\n",
      "{\"m2m:cin\": {\"cnf\": \"application/json:0\", \"con\": {\"peripherial_id\": \"4e:9a:70:77:be:fc\", \"status\": \"active\", \"test_time\": \"2021-08-13T14:15:28.498230\", \"test_result\": \"[3]\"}}}\n",
      "{\"m2m:cin\": {\"cnf\": \"application/json:0\", \"con\": {\"peripherial_id\": \"56:39:fa:56:c2:1e\", \"status\": \"active\", \"test_time\": \"2021-08-13T14:15:34.503437\", \"test_result\": \"[5]\"}}}\n",
      "{\"m2m:cin\": {\"cnf\": \"application/json:0\", \"con\": {\"peripherial_id\": \"7e:42:0a:2e:ce:62\", \"status\": \"active\", \"test_time\": \"2021-08-13T14:15:40.510604\", \"test_result\": \"[8]\"}}}\n",
      "{\"m2m:cin\": {\"cnf\": \"application/json:0\", \"con\": {\"peripherial_id\": \"b6:de:e4:65:df:0f\", \"status\": \"active\", \"test_time\": \"2021-08-13T14:15:46.512232\", \"test_result\": \"[3]\"}}}\n",
      "{\"m2m:cin\": {\"cnf\": \"application/json:0\", \"con\": {\"peripherial_id\": \"4e:0a:38:b8:af:12\", \"status\": \"active\", \"test_time\": \"2021-08-13T14:15:52.520635\", \"test_result\": \"[1]\"}}}\n",
      "{\"m2m:cin\": {\"cnf\": \"application/json:0\", \"con\": {\"peripherial_id\": \"f2:15:44:aa:19:4c\", \"status\": \"active\", \"test_time\": \"2021-08-13T14:15:58.526760\", \"test_result\": \"[4]\"}}}\n",
      "{\"m2m:cin\": {\"cnf\": \"application/json:0\", \"con\": {\"peripherial_id\": \"c2:a9:da:1d:d6:60\", \"status\": \"active\", \"test_time\": \"2021-08-13T14:16:04.528554\", \"test_result\": \"[1]\"}}}\n",
      "{\"m2m:cin\": {\"cnf\": \"application/json:0\", \"con\": {\"peripherial_id\": \"46:c0:fb:cb:b4:0d\", \"status\": \"active\", \"test_time\": \"2021-08-13T14:16:10.544408\", \"test_result\": \"[1]\"}}}\n",
      "{\"m2m:cin\": {\"cnf\": \"application/json:0\", \"con\": {\"peripherial_id\": \"12:29:e2:0a:a1:5c\", \"status\": \"active\", \"test_time\": \"2021-08-13T14:16:16.553434\", \"test_result\": \"[5]\"}}}\n",
      "{\"m2m:cin\": {\"cnf\": \"application/json:0\", \"con\": {\"peripherial_id\": \"9a:4d:4f:45:c4:65\", \"status\": \"active\", \"test_time\": \"2021-08-13T14:16:22.562021\", \"test_result\": \"[6]\"}}}\n",
      "{\"m2m:cin\": {\"cnf\": \"application/json:0\", \"con\": {\"peripherial_id\": \"2e:10:71:15:b0:c4\", \"status\": \"active\", \"test_time\": \"2021-08-13T14:16:28.568296\", \"test_result\": \"[5]\"}}}\n",
      "{\"m2m:cin\": {\"cnf\": \"application/json:0\", \"con\": {\"peripherial_id\": \"26:be:1e:bf:1c:87\", \"status\": \"active\", \"test_time\": \"2021-08-13T14:16:34.574584\", \"test_result\": \"[8]\"}}}\n",
      "{\"m2m:cin\": {\"cnf\": \"application/json:0\", \"con\": {\"peripherial_id\": \"06:94:84:32:e6:73\", \"status\": \"active\", \"test_time\": \"2021-08-13T14:16:40.577621\", \"test_result\": \"[3]\"}}}\n",
      "{\"m2m:cin\": {\"cnf\": \"application/json:0\", \"con\": {\"peripherial_id\": \"9e:a4:09:cd:36:d4\", \"status\": \"active\", \"test_time\": \"2021-08-13T14:16:46.579045\", \"test_result\": \"[1]\"}}}\n",
      "{\"m2m:cin\": {\"cnf\": \"application/json:0\", \"con\": {\"peripherial_id\": \"06:d2:56:af:8a:b8\", \"status\": \"active\", \"test_time\": \"2021-08-13T14:16:52.582510\", \"test_result\": \"[5]\"}}}\n",
      "{\"m2m:cin\": {\"cnf\": \"application/json:0\", \"con\": {\"peripherial_id\": \"e6:72:6d:40:a0:9b\", \"status\": \"active\", \"test_time\": \"2021-08-13T14:16:58.585512\", \"test_result\": \"[3]\"}}}\n",
      "{\"m2m:cin\": {\"cnf\": \"application/json:0\", \"con\": {\"peripherial_id\": \"0e:3e:24:3c:c6:79\", \"status\": \"active\", \"test_time\": \"2021-08-13T14:17:04.588559\", \"test_result\": \"[2]\"}}}\n",
      "{\"m2m:cin\": {\"cnf\": \"application/json:0\", \"con\": {\"peripherial_id\": \"56:9d:7c:03:a8:4c\", \"status\": \"active\", \"test_time\": \"2021-08-13T14:17:10.595453\", \"test_result\": \"[3]\"}}}\n",
      "{\"m2m:cin\": {\"cnf\": \"application/json:0\", \"con\": {\"peripherial_id\": \"d2:bb:49:ec:15:ac\", \"status\": \"active\", \"test_time\": \"2021-08-13T14:17:16.597657\", \"test_result\": \"[1]\"}}}\n",
      "{\"m2m:cin\": {\"cnf\": \"application/json:0\", \"con\": {\"peripherial_id\": \"46:db:f4:fd:0f:c1\", \"status\": \"active\", \"test_time\": \"2021-08-13T14:17:22.604397\", \"test_result\": \"[4]\"}}}\n",
      "{\"m2m:cin\": {\"cnf\": \"application/json:0\", \"con\": {\"peripherial_id\": \"96:bd:46:94:1c:86\", \"status\": \"active\", \"test_time\": \"2021-08-13T14:17:28.606363\", \"test_result\": \"[7]\"}}}\n",
      "{\"m2m:cin\": {\"cnf\": \"application/json:0\", \"con\": {\"peripherial_id\": \"de:26:32:16:22:53\", \"status\": \"active\", \"test_time\": \"2021-08-13T14:17:34.615573\", \"test_result\": \"[6]\"}}}\n",
      "{\"m2m:cin\": {\"cnf\": \"application/json:0\", \"con\": {\"peripherial_id\": \"d6:38:5d:0f:c9:c0\", \"status\": \"active\", \"test_time\": \"2021-08-13T14:17:40.625651\", \"test_result\": \"[5]\"}}}\n",
      "{\"m2m:cin\": {\"cnf\": \"application/json:0\", \"con\": {\"peripherial_id\": \"02:91:61:ce:f6:94\", \"status\": \"active\", \"test_time\": \"2021-08-13T14:17:46.626052\", \"test_result\": \"[3]\"}}}\n",
      "{\"m2m:cin\": {\"cnf\": \"application/json:0\", \"con\": {\"peripherial_id\": \"c6:9e:ac:91:6d:75\", \"status\": \"active\", \"test_time\": \"2021-08-13T14:17:52.636942\", \"test_result\": \"[7]\"}}}\n",
      "{\"m2m:cin\": {\"cnf\": \"application/json:0\", \"con\": {\"peripherial_id\": \"7a:51:f9:7a:28:0c\", \"status\": \"active\", \"test_time\": \"2021-08-13T14:17:58.638962\", \"test_result\": \"[1]\"}}}\n",
      "{\"m2m:cin\": {\"cnf\": \"application/json:0\", \"con\": {\"peripherial_id\": \"72:43:6c:c2:01:06\", \"status\": \"active\", \"test_time\": \"2021-08-13T14:18:04.639058\", \"test_result\": \"[2]\"}}}\n",
      "{\"m2m:cin\": {\"cnf\": \"application/json:0\", \"con\": {\"peripherial_id\": \"12:7f:20:af:9a:a8\", \"status\": \"active\", \"test_time\": \"2021-08-13T14:18:10.641206\", \"test_result\": \"[4]\"}}}\n",
      "{\"m2m:cin\": {\"cnf\": \"application/json:0\", \"con\": {\"peripherial_id\": \"5a:c5:09:be:62:e1\", \"status\": \"active\", \"test_time\": \"2021-08-13T14:18:16.654576\", \"test_result\": \"[7]\"}}}\n",
      "{\"m2m:cin\": {\"cnf\": \"application/json:0\", \"con\": {\"peripherial_id\": \"a2:7d:48:e5:f8:7b\", \"status\": \"active\", \"test_time\": \"2021-08-13T14:18:22.664009\", \"test_result\": \"[1]\"}}}\n",
      "{\"m2m:cin\": {\"cnf\": \"application/json:0\", \"con\": {\"peripherial_id\": \"ea:22:f1:c5:f1:41\", \"status\": \"active\", \"test_time\": \"2021-08-13T14:18:28.672212\", \"test_result\": \"[6]\"}}}\n",
      "{\"m2m:cin\": {\"cnf\": \"application/json:0\", \"con\": {\"peripherial_id\": \"fa:41:e3:15:a2:72\", \"status\": \"active\", \"test_time\": \"2021-08-13T14:18:34.688601\", \"test_result\": \"[4]\"}}}\n",
      "{\"m2m:cin\": {\"cnf\": \"application/json:0\", \"con\": {\"peripherial_id\": \"4e:b1:d7:3c:c9:c1\", \"status\": \"active\", \"test_time\": \"2021-08-13T14:18:40.698867\", \"test_result\": \"[5]\"}}}\n",
      "{\"m2m:cin\": {\"cnf\": \"application/json:0\", \"con\": {\"peripherial_id\": \"2a:b1:26:17:3b:88\", \"status\": \"active\", \"test_time\": \"2021-08-13T14:18:46.703529\", \"test_result\": \"[2]\"}}}\n",
      "{\"m2m:cin\": {\"cnf\": \"application/json:0\", \"con\": {\"peripherial_id\": \"ea:ad:ac:ef:69:9f\", \"status\": \"active\", \"test_time\": \"2021-08-13T14:18:52.708417\", \"test_result\": \"[1]\"}}}\n",
      "{\"m2m:cin\": {\"cnf\": \"application/json:0\", \"con\": {\"peripherial_id\": \"ee:ba:d2:16:7d:07\", \"status\": \"active\", \"test_time\": \"2021-08-13T14:18:58.714251\", \"test_result\": \"[6]\"}}}\n",
      "{\"m2m:cin\": {\"cnf\": \"application/json:0\", \"con\": {\"peripherial_id\": \"92:3d:de:47:6c:01\", \"status\": \"active\", \"test_time\": \"2021-08-13T14:19:04.717448\", \"test_result\": \"[8]\"}}}\n",
      "{\"m2m:cin\": {\"cnf\": \"application/json:0\", \"con\": {\"peripherial_id\": \"5a:60:89:7e:bd:a8\", \"status\": \"active\", \"test_time\": \"2021-08-13T14:19:10.732553\", \"test_result\": \"[9]\"}}}\n",
      "{\"m2m:cin\": {\"cnf\": \"application/json:0\", \"con\": {\"peripherial_id\": \"52:2a:12:03:fe:f2\", \"status\": \"active\", \"test_time\": \"2021-08-13T14:19:16.740320\", \"test_result\": \"[4]\"}}}\n",
      "{\"m2m:cin\": {\"cnf\": \"application/json:0\", \"con\": {\"peripherial_id\": \"da:77:f9:62:68:a6\", \"status\": \"active\", \"test_time\": \"2021-08-13T14:19:22.742428\", \"test_result\": \"[6]\"}}}\n"
     ]
    },
    {
     "name": "stdout",
     "output_type": "stream",
     "text": [
      "{\"m2m:cin\": {\"cnf\": \"application/json:0\", \"con\": {\"peripherial_id\": \"2e:78:20:54:5c:50\", \"status\": \"active\", \"test_time\": \"2021-08-13T14:19:28.752365\", \"test_result\": \"[4]\"}}}\n",
      "{\"m2m:cin\": {\"cnf\": \"application/json:0\", \"con\": {\"peripherial_id\": \"76:56:69:fa:47:5f\", \"status\": \"active\", \"test_time\": \"2021-08-13T14:19:34.766089\", \"test_result\": \"[2]\"}}}\n",
      "{\"m2m:cin\": {\"cnf\": \"application/json:0\", \"con\": {\"peripherial_id\": \"6a:c8:78:0b:c8:36\", \"status\": \"active\", \"test_time\": \"2021-08-13T14:19:40.782389\", \"test_result\": \"[8]\"}}}\n",
      "{\"m2m:cin\": {\"cnf\": \"application/json:0\", \"con\": {\"peripherial_id\": \"96:32:79:9e:11:bb\", \"status\": \"active\", \"test_time\": \"2021-08-13T14:19:46.792311\", \"test_result\": \"[2]\"}}}\n",
      "{\"m2m:cin\": {\"cnf\": \"application/json:0\", \"con\": {\"peripherial_id\": \"d6:aa:22:f7:74:ee\", \"status\": \"active\", \"test_time\": \"2021-08-13T14:19:52.802472\", \"test_result\": \"[9]\"}}}\n",
      "{\"m2m:cin\": {\"cnf\": \"application/json:0\", \"con\": {\"peripherial_id\": \"06:9a:fc:c6:02:e1\", \"status\": \"active\", \"test_time\": \"2021-08-13T14:19:58.803488\", \"test_result\": \"[9]\"}}}\n",
      "{\"m2m:cin\": {\"cnf\": \"application/json:0\", \"con\": {\"peripherial_id\": \"12:35:b7:8a:c8:99\", \"status\": \"active\", \"test_time\": \"2021-08-13T14:20:04.809786\", \"test_result\": \"[9]\"}}}\n",
      "{\"m2m:cin\": {\"cnf\": \"application/json:0\", \"con\": {\"peripherial_id\": \"c6:a3:87:d3:f1:bb\", \"status\": \"active\", \"test_time\": \"2021-08-13T14:20:10.820552\", \"test_result\": \"[2]\"}}}\n",
      "{\"m2m:cin\": {\"cnf\": \"application/json:0\", \"con\": {\"peripherial_id\": \"d2:a8:48:44:58:7f\", \"status\": \"active\", \"test_time\": \"2021-08-13T14:20:16.825437\", \"test_result\": \"[1]\"}}}\n",
      "{\"m2m:cin\": {\"cnf\": \"application/json:0\", \"con\": {\"peripherial_id\": \"82:f7:31:28:13:3d\", \"status\": \"active\", \"test_time\": \"2021-08-13T14:20:22.834960\", \"test_result\": \"[2]\"}}}\n",
      "{\"m2m:cin\": {\"cnf\": \"application/json:0\", \"con\": {\"peripherial_id\": \"9e:60:5a:c2:0e:49\", \"status\": \"active\", \"test_time\": \"2021-08-13T14:20:28.839947\", \"test_result\": \"[8]\"}}}\n",
      "{\"m2m:cin\": {\"cnf\": \"application/json:0\", \"con\": {\"peripherial_id\": \"62:99:33:15:05:1a\", \"status\": \"active\", \"test_time\": \"2021-08-13T14:20:34.844379\", \"test_result\": \"[9]\"}}}\n",
      "{\"m2m:cin\": {\"cnf\": \"application/json:0\", \"con\": {\"peripherial_id\": \"7a:e7:0e:75:30:e1\", \"status\": \"active\", \"test_time\": \"2021-08-13T14:20:40.855490\", \"test_result\": \"[2]\"}}}\n",
      "{\"m2m:cin\": {\"cnf\": \"application/json:0\", \"con\": {\"peripherial_id\": \"6a:a4:9d:69:fe:0a\", \"status\": \"active\", \"test_time\": \"2021-08-13T14:20:46.867025\", \"test_result\": \"[5]\"}}}\n",
      "{\"m2m:cin\": {\"cnf\": \"application/json:0\", \"con\": {\"peripherial_id\": \"0e:ea:12:15:a0:c6\", \"status\": \"active\", \"test_time\": \"2021-08-13T14:20:52.875021\", \"test_result\": \"[6]\"}}}\n",
      "{\"m2m:cin\": {\"cnf\": \"application/json:0\", \"con\": {\"peripherial_id\": \"e6:7e:45:38:27:04\", \"status\": \"active\", \"test_time\": \"2021-08-13T14:20:58.877253\", \"test_result\": \"[3]\"}}}\n",
      "{\"m2m:cin\": {\"cnf\": \"application/json:0\", \"con\": {\"peripherial_id\": \"6e:7e:aa:03:2e:f4\", \"status\": \"active\", \"test_time\": \"2021-08-13T14:21:04.883526\", \"test_result\": \"[7]\"}}}\n",
      "{\"m2m:cin\": {\"cnf\": \"application/json:0\", \"con\": {\"peripherial_id\": \"46:63:2f:4c:ec:fe\", \"status\": \"active\", \"test_time\": \"2021-08-13T14:21:10.890321\", \"test_result\": \"[9]\"}}}\n",
      "{\"m2m:cin\": {\"cnf\": \"application/json:0\", \"con\": {\"peripherial_id\": \"72:d3:76:b1:b6:62\", \"status\": \"active\", \"test_time\": \"2021-08-13T14:21:16.898288\", \"test_result\": \"[2]\"}}}\n",
      "{\"m2m:cin\": {\"cnf\": \"application/json:0\", \"con\": {\"peripherial_id\": \"6a:ee:75:e1:22:70\", \"status\": \"active\", \"test_time\": \"2021-08-13T14:21:22.900377\", \"test_result\": \"[9]\"}}}\n",
      "{\"m2m:cin\": {\"cnf\": \"application/json:0\", \"con\": {\"peripherial_id\": \"12:d8:64:53:02:14\", \"status\": \"active\", \"test_time\": \"2021-08-13T14:21:28.914711\", \"test_result\": \"[3]\"}}}\n",
      "{\"m2m:cin\": {\"cnf\": \"application/json:0\", \"con\": {\"peripherial_id\": \"2e:c8:1e:eb:5c:dd\", \"status\": \"active\", \"test_time\": \"2021-08-13T14:21:34.916985\", \"test_result\": \"[1]\"}}}\n",
      "{\"m2m:cin\": {\"cnf\": \"application/json:0\", \"con\": {\"peripherial_id\": \"1e:fd:6b:fe:fd:d3\", \"status\": \"active\", \"test_time\": \"2021-08-13T14:21:40.924153\", \"test_result\": \"[7]\"}}}\n",
      "{\"m2m:cin\": {\"cnf\": \"application/json:0\", \"con\": {\"peripherial_id\": \"ae:a9:ee:90:21:de\", \"status\": \"active\", \"test_time\": \"2021-08-13T14:21:46.929538\", \"test_result\": \"[7]\"}}}\n",
      "{\"m2m:cin\": {\"cnf\": \"application/json:0\", \"con\": {\"peripherial_id\": \"2e:7d:88:b5:1e:90\", \"status\": \"active\", \"test_time\": \"2021-08-13T14:21:52.940554\", \"test_result\": \"[3]\"}}}\n",
      "{\"m2m:cin\": {\"cnf\": \"application/json:0\", \"con\": {\"peripherial_id\": \"42:ea:89:10:06:31\", \"status\": \"active\", \"test_time\": \"2021-08-13T14:21:58.949205\", \"test_result\": \"[1]\"}}}\n",
      "{\"m2m:cin\": {\"cnf\": \"application/json:0\", \"con\": {\"peripherial_id\": \"aa:b0:b3:9c:6f:2e\", \"status\": \"active\", \"test_time\": \"2021-08-13T14:22:04.956121\", \"test_result\": \"[8]\"}}}\n",
      "{\"m2m:cin\": {\"cnf\": \"application/json:0\", \"con\": {\"peripherial_id\": \"4a:16:e0:ed:89:e1\", \"status\": \"active\", \"test_time\": \"2021-08-13T14:22:10.969087\", \"test_result\": \"[6]\"}}}\n",
      "{\"m2m:cin\": {\"cnf\": \"application/json:0\", \"con\": {\"peripherial_id\": \"0e:27:f8:b8:49:af\", \"status\": \"active\", \"test_time\": \"2021-08-13T14:22:16.987169\", \"test_result\": \"[7]\"}}}\n",
      "{\"m2m:cin\": {\"cnf\": \"application/json:0\", \"con\": {\"peripherial_id\": \"02:ca:d1:4b:ba:1e\", \"status\": \"active\", \"test_time\": \"2021-08-13T14:22:22.995078\", \"test_result\": \"[4]\"}}}\n",
      "{\"m2m:cin\": {\"cnf\": \"application/json:0\", \"con\": {\"peripherial_id\": \"7a:72:d5:8c:e7:c4\", \"status\": \"active\", \"test_time\": \"2021-08-13T14:22:28.996140\", \"test_result\": \"[1]\"}}}\n",
      "{\"m2m:cin\": {\"cnf\": \"application/json:0\", \"con\": {\"peripherial_id\": \"86:05:96:52:e7:10\", \"status\": \"active\", \"test_time\": \"2021-08-13T14:22:34.999513\", \"test_result\": \"[7]\"}}}\n",
      "{\"m2m:cin\": {\"cnf\": \"application/json:0\", \"con\": {\"peripherial_id\": \"36:6a:c0:e4:65:a5\", \"status\": \"active\", \"test_time\": \"2021-08-13T14:22:41.005220\", \"test_result\": \"[1]\"}}}\n",
      "{\"m2m:cin\": {\"cnf\": \"application/json:0\", \"con\": {\"peripherial_id\": \"aa:14:78:b9:aa:2d\", \"status\": \"active\", \"test_time\": \"2021-08-13T14:22:47.006384\", \"test_result\": \"[7]\"}}}\n",
      "{\"m2m:cin\": {\"cnf\": \"application/json:0\", \"con\": {\"peripherial_id\": \"72:9e:6b:1a:79:d5\", \"status\": \"active\", \"test_time\": \"2021-08-13T14:22:53.013375\", \"test_result\": \"[9]\"}}}\n",
      "{\"m2m:cin\": {\"cnf\": \"application/json:0\", \"con\": {\"peripherial_id\": \"b6:0a:4b:60:c1:ac\", \"status\": \"active\", \"test_time\": \"2021-08-13T14:22:59.020289\", \"test_result\": \"[6]\"}}}\n",
      "{\"m2m:cin\": {\"cnf\": \"application/json:0\", \"con\": {\"peripherial_id\": \"be:b3:53:32:3a:b0\", \"status\": \"active\", \"test_time\": \"2021-08-13T14:23:05.030754\", \"test_result\": \"[7]\"}}}\n",
      "{\"m2m:cin\": {\"cnf\": \"application/json:0\", \"con\": {\"peripherial_id\": \"b6:95:fe:d5:0f:17\", \"status\": \"active\", \"test_time\": \"2021-08-13T14:23:11.035122\", \"test_result\": \"[5]\"}}}\n",
      "{\"m2m:cin\": {\"cnf\": \"application/json:0\", \"con\": {\"peripherial_id\": \"6e:b8:3a:a2:f9:bd\", \"status\": \"active\", \"test_time\": \"2021-08-13T14:23:17.046375\", \"test_result\": \"[8]\"}}}\n",
      "{\"m2m:cin\": {\"cnf\": \"application/json:0\", \"con\": {\"peripherial_id\": \"1a:c7:65:59:53:08\", \"status\": \"active\", \"test_time\": \"2021-08-13T14:23:23.047724\", \"test_result\": \"[9]\"}}}\n",
      "{\"m2m:cin\": {\"cnf\": \"application/json:0\", \"con\": {\"peripherial_id\": \"3a:4c:80:e5:02:d6\", \"status\": \"active\", \"test_time\": \"2021-08-13T14:23:29.055412\", \"test_result\": \"[6]\"}}}\n",
      "{\"m2m:cin\": {\"cnf\": \"application/json:0\", \"con\": {\"peripherial_id\": \"ae:bf:9e:2b:e4:d3\", \"status\": \"active\", \"test_time\": \"2021-08-13T14:23:35.066383\", \"test_result\": \"[4]\"}}}\n",
      "{\"m2m:cin\": {\"cnf\": \"application/json:0\", \"con\": {\"peripherial_id\": \"ee:f2:98:d6:01:b8\", \"status\": \"active\", \"test_time\": \"2021-08-13T14:23:41.076508\", \"test_result\": \"[9]\"}}}\n",
      "{\"m2m:cin\": {\"cnf\": \"application/json:0\", \"con\": {\"peripherial_id\": \"62:c7:cc:d6:26:15\", \"status\": \"active\", \"test_time\": \"2021-08-13T14:23:47.092441\", \"test_result\": \"[7]\"}}}\n",
      "{\"m2m:cin\": {\"cnf\": \"application/json:0\", \"con\": {\"peripherial_id\": \"82:68:5e:0d:e5:87\", \"status\": \"active\", \"test_time\": \"2021-08-13T14:23:53.101300\", \"test_result\": \"[3]\"}}}\n",
      "{\"m2m:cin\": {\"cnf\": \"application/json:0\", \"con\": {\"peripherial_id\": \"56:4c:d5:a8:f1:da\", \"status\": \"active\", \"test_time\": \"2021-08-13T14:23:59.108862\", \"test_result\": \"[4]\"}}}\n",
      "{\"m2m:cin\": {\"cnf\": \"application/json:0\", \"con\": {\"peripherial_id\": \"92:52:b4:46:eb:39\", \"status\": \"active\", \"test_time\": \"2021-08-13T14:24:05.116254\", \"test_result\": \"[9]\"}}}\n"
     ]
    },
    {
     "name": "stdout",
     "output_type": "stream",
     "text": [
      "{\"m2m:cin\": {\"cnf\": \"application/json:0\", \"con\": {\"peripherial_id\": \"72:38:d3:51:00:27\", \"status\": \"active\", \"test_time\": \"2021-08-13T14:24:11.119894\", \"test_result\": \"[6]\"}}}\n",
      "{\"m2m:cin\": {\"cnf\": \"application/json:0\", \"con\": {\"peripherial_id\": \"8a:32:6e:b3:3e:ca\", \"status\": \"active\", \"test_time\": \"2021-08-13T14:24:17.131505\", \"test_result\": \"[7]\"}}}\n",
      "{\"m2m:cin\": {\"cnf\": \"application/json:0\", \"con\": {\"peripherial_id\": \"b2:29:89:84:71:d9\", \"status\": \"active\", \"test_time\": \"2021-08-13T14:24:23.140293\", \"test_result\": \"[9]\"}}}\n",
      "{\"m2m:cin\": {\"cnf\": \"application/json:0\", \"con\": {\"peripherial_id\": \"5a:3e:93:f7:e0:20\", \"status\": \"active\", \"test_time\": \"2021-08-13T14:24:29.146624\", \"test_result\": \"[3]\"}}}\n",
      "{\"m2m:cin\": {\"cnf\": \"application/json:0\", \"con\": {\"peripherial_id\": \"f6:6e:c5:4d:31:91\", \"status\": \"active\", \"test_time\": \"2021-08-13T14:24:35.153487\", \"test_result\": \"[4]\"}}}\n",
      "{\"m2m:cin\": {\"cnf\": \"application/json:0\", \"con\": {\"peripherial_id\": \"56:e0:b6:ab:02:a4\", \"status\": \"active\", \"test_time\": \"2021-08-13T14:24:41.161577\", \"test_result\": \"[6]\"}}}\n",
      "{\"m2m:cin\": {\"cnf\": \"application/json:0\", \"con\": {\"peripherial_id\": \"c2:6b:c7:59:45:1b\", \"status\": \"active\", \"test_time\": \"2021-08-13T14:24:47.169209\", \"test_result\": \"[3]\"}}}\n",
      "{\"m2m:cin\": {\"cnf\": \"application/json:0\", \"con\": {\"peripherial_id\": \"0a:b6:44:72:15:fe\", \"status\": \"active\", \"test_time\": \"2021-08-13T14:24:53.174466\", \"test_result\": \"[4]\"}}}\n",
      "{\"m2m:cin\": {\"cnf\": \"application/json:0\", \"con\": {\"peripherial_id\": \"aa:b8:b4:89:9f:2e\", \"status\": \"active\", \"test_time\": \"2021-08-13T14:24:59.187573\", \"test_result\": \"[4]\"}}}\n",
      "{\"m2m:cin\": {\"cnf\": \"application/json:0\", \"con\": {\"peripherial_id\": \"ea:cd:23:0c:26:e1\", \"status\": \"active\", \"test_time\": \"2021-08-13T14:25:05.188801\", \"test_result\": \"[2]\"}}}\n",
      "{\"m2m:cin\": {\"cnf\": \"application/json:0\", \"con\": {\"peripherial_id\": \"12:8c:f1:fb:73:e1\", \"status\": \"active\", \"test_time\": \"2021-08-13T14:25:11.196498\", \"test_result\": \"[9]\"}}}\n",
      "{\"m2m:cin\": {\"cnf\": \"application/json:0\", \"con\": {\"peripherial_id\": \"c2:7e:a5:6c:f6:d7\", \"status\": \"active\", \"test_time\": \"2021-08-13T14:25:17.209145\", \"test_result\": \"[4]\"}}}\n",
      "{\"m2m:cin\": {\"cnf\": \"application/json:0\", \"con\": {\"peripherial_id\": \"fa:57:e2:e4:f3:61\", \"status\": \"active\", \"test_time\": \"2021-08-13T14:25:23.209732\", \"test_result\": \"[6]\"}}}\n",
      "{\"m2m:cin\": {\"cnf\": \"application/json:0\", \"con\": {\"peripherial_id\": \"d2:1d:21:e9:13:f9\", \"status\": \"active\", \"test_time\": \"2021-08-13T14:25:29.217664\", \"test_result\": \"[4]\"}}}\n",
      "{\"m2m:cin\": {\"cnf\": \"application/json:0\", \"con\": {\"peripherial_id\": \"1e:a3:f1:bb:cc:90\", \"status\": \"active\", \"test_time\": \"2021-08-13T14:25:35.223817\", \"test_result\": \"[8]\"}}}\n",
      "{\"m2m:cin\": {\"cnf\": \"application/json:0\", \"con\": {\"peripherial_id\": \"4a:55:ba:16:7f:dd\", \"status\": \"active\", \"test_time\": \"2021-08-13T14:25:41.231330\", \"test_result\": \"[4]\"}}}\n",
      "{\"m2m:cin\": {\"cnf\": \"application/json:0\", \"con\": {\"peripherial_id\": \"56:20:90:59:b4:e7\", \"status\": \"active\", \"test_time\": \"2021-08-13T14:25:47.243775\", \"test_result\": \"[2]\"}}}\n",
      "{\"m2m:cin\": {\"cnf\": \"application/json:0\", \"con\": {\"peripherial_id\": \"42:33:a4:eb:94:fe\", \"status\": \"active\", \"test_time\": \"2021-08-13T14:25:53.244987\", \"test_result\": \"[1]\"}}}\n",
      "{\"m2m:cin\": {\"cnf\": \"application/json:0\", \"con\": {\"peripherial_id\": \"be:4b:48:6d:a8:c9\", \"status\": \"active\", \"test_time\": \"2021-08-13T14:25:59.252756\", \"test_result\": \"[8]\"}}}\n",
      "{\"m2m:cin\": {\"cnf\": \"application/json:0\", \"con\": {\"peripherial_id\": \"6e:a6:39:4a:49:a1\", \"status\": \"active\", \"test_time\": \"2021-08-13T14:26:05.260670\", \"test_result\": \"[7]\"}}}\n",
      "{\"m2m:cin\": {\"cnf\": \"application/json:0\", \"con\": {\"peripherial_id\": \"5a:da:13:7b:82:59\", \"status\": \"active\", \"test_time\": \"2021-08-13T14:26:11.268625\", \"test_result\": \"[9]\"}}}\n",
      "{\"m2m:cin\": {\"cnf\": \"application/json:0\", \"con\": {\"peripherial_id\": \"9a:33:67:41:17:30\", \"status\": \"active\", \"test_time\": \"2021-08-13T14:26:17.281462\", \"test_result\": \"[7]\"}}}\n",
      "{\"m2m:cin\": {\"cnf\": \"application/json:0\", \"con\": {\"peripherial_id\": \"7e:90:42:53:dd:6b\", \"status\": \"active\", \"test_time\": \"2021-08-13T14:26:23.282094\", \"test_result\": \"[8]\"}}}\n",
      "{\"m2m:cin\": {\"cnf\": \"application/json:0\", \"con\": {\"peripherial_id\": \"f2:e3:35:97:ab:3f\", \"status\": \"active\", \"test_time\": \"2021-08-13T14:26:29.289853\", \"test_result\": \"[8]\"}}}\n",
      "{\"m2m:cin\": {\"cnf\": \"application/json:0\", \"con\": {\"peripherial_id\": \"5e:44:0e:0b:75:b2\", \"status\": \"active\", \"test_time\": \"2021-08-13T14:26:35.296998\", \"test_result\": \"[8]\"}}}\n",
      "{\"m2m:cin\": {\"cnf\": \"application/json:0\", \"con\": {\"peripherial_id\": \"2a:f6:1b:5e:e5:16\", \"status\": \"active\", \"test_time\": \"2021-08-13T14:26:41.303110\", \"test_result\": \"[8]\"}}}\n",
      "{\"m2m:cin\": {\"cnf\": \"application/json:0\", \"con\": {\"peripherial_id\": \"3a:b7:34:3d:ba:28\", \"status\": \"active\", \"test_time\": \"2021-08-13T14:26:47.309667\", \"test_result\": \"[2]\"}}}\n",
      "{\"m2m:cin\": {\"cnf\": \"application/json:0\", \"con\": {\"peripherial_id\": \"c2:f3:4e:8c:16:28\", \"status\": \"active\", \"test_time\": \"2021-08-13T14:26:53.320905\", \"test_result\": \"[3]\"}}}\n",
      "{\"m2m:cin\": {\"cnf\": \"application/json:0\", \"con\": {\"peripherial_id\": \"d2:26:2d:7c:e8:a3\", \"status\": \"active\", \"test_time\": \"2021-08-13T14:26:59.330817\", \"test_result\": \"[4]\"}}}\n",
      "{\"m2m:cin\": {\"cnf\": \"application/json:0\", \"con\": {\"peripherial_id\": \"32:35:1c:a2:22:06\", \"status\": \"active\", \"test_time\": \"2021-08-13T14:27:05.334893\", \"test_result\": \"[9]\"}}}\n",
      "{\"m2m:cin\": {\"cnf\": \"application/json:0\", \"con\": {\"peripherial_id\": \"66:d9:1d:11:10:0d\", \"status\": \"active\", \"test_time\": \"2021-08-13T14:27:11.346645\", \"test_result\": \"[9]\"}}}\n",
      "{\"m2m:cin\": {\"cnf\": \"application/json:0\", \"con\": {\"peripherial_id\": \"be:b5:e5:ff:a2:d1\", \"status\": \"active\", \"test_time\": \"2021-08-13T14:27:17.358920\", \"test_result\": \"[1]\"}}}\n",
      "{\"m2m:cin\": {\"cnf\": \"application/json:0\", \"con\": {\"peripherial_id\": \"3a:42:16:09:4e:c9\", \"status\": \"active\", \"test_time\": \"2021-08-13T14:27:23.370371\", \"test_result\": \"[6]\"}}}\n",
      "{\"m2m:cin\": {\"cnf\": \"application/json:0\", \"con\": {\"peripherial_id\": \"d2:79:fd:3b:77:1f\", \"status\": \"active\", \"test_time\": \"2021-08-13T14:27:29.378134\", \"test_result\": \"[9]\"}}}\n"
     ]
    }
   ],
   "source": [
    "for i in range(len(BSSID)): \n",
    "    value = BSSID[i] \n",
    "    test_result= random.sample(range(1, 10), 1)\n",
    "    test_time= datetime.now().isoformat()\n",
    "    data= {'peripherial_id': str(value), 'status': 'active', 'test_time':test_time ,'test_result': str(test_result)} \n",
    "    new_dict= {'m2m:cin': {'cnf': 'application/json:0', 'con': data}}\n",
    "    payload = json.dumps(new_dict)\n",
    "    API_endpoint= \"http://127.0.0.1:5000/DetectionService\"\n",
    "    headers= { 'content-Type':  'application/json'}\n",
    "    print (payload)\n",
    "    time.sleep(6)"
   ]
  },
  {
   "cell_type": "markdown",
   "id": "38920688",
   "metadata": {},
   "source": [
    "### for i in range(len(BSSID)):\n",
    "    value = BSSID[i]\n",
    "    test_result= input(\"enter an integer value\")\n",
    "    data= {'peripherial_id': value, 'status': 'active', 'test_result': test_result}\n",
    "#create a connection to the server\n",
    "    print (data)\n",
    "    print(value)"
   ]
  },
  {
   "cell_type": "code",
   "execution_count": 22,
   "id": "d180c238",
   "metadata": {},
   "outputs": [
    {
     "data": {
      "text/plain": [
       "<matplotlib.patches.Rectangle at 0x16b8e62f7c0>"
      ]
     },
     "execution_count": 22,
     "metadata": {},
     "output_type": "execute_result"
    },
    {
     "data": {
      "image/png": "[encoded data removed]",
      "text/plain": [
       "<Figure size 432x288 with 1 Axes>"
      ]
     },
     "metadata": {
      "needs_background": "light"
     },
     "output_type": "display_data"
    }
   ],
   "source": [
    "import matplotlib.pyplot as plt\n",
    "import matplotlib.patches as mpatches\n",
    "\n",
    "left, bottom, width, height = (131, 150, 140, 70)\n",
    "rect=mpatches.Rectangle((left,bottom),width,height, fill = False,color = \"red\",linewidth = 2)\n",
    "plt.gca().add_patch(rect)"
   ]
  },
  {
   "cell_type": "code",
   "execution_count": 25,
   "id": "76e2ab27",
   "metadata": {},
   "outputs": [
    {
     "name": "stdout",
     "output_type": "stream",
     "text": [
      "DatetimeIndex(['2018-08-08 00:00:00', '2018-08-08 01:00:00',\n",
      "               '2018-08-08 02:00:00', '2018-08-08 03:00:00',\n",
      "               '2018-08-08 04:00:00', '2018-08-08 05:00:00',\n",
      "               '2018-08-08 06:00:00', '2018-08-08 07:00:00',\n",
      "               '2018-08-08 08:00:00', '2018-08-08 09:00:00',\n",
      "               ...\n",
      "               '2018-08-14 15:00:00', '2018-08-14 16:00:00',\n",
      "               '2018-08-14 17:00:00', '2018-08-14 18:00:00',\n",
      "               '2018-08-14 19:00:00', '2018-08-14 20:00:00',\n",
      "               '2018-08-14 21:00:00', '2018-08-14 22:00:00',\n",
      "               '2018-08-14 23:00:00', '2018-08-15 00:00:00'],\n",
      "              dtype='datetime64[ns]', length=169, freq='H')\n"
     ]
    }
   ],
   "source": [
    "import pandas as pd\n",
    "\n",
    "dates = pd.date_range(start='2018-08-08', end = '2018-08-15', freq='H')\n",
    "print (dates)"
   ]
  },
  {
   "cell_type": "code",
   "execution_count": 28,
   "id": "b80399ca",
   "metadata": {},
   "outputs": [
    {
     "data": {
      "text/plain": [
       "'2015-03-22T10:00:00+0900 - 2015-03-22T10:10:00+0900'"
      ]
     },
     "execution_count": 28,
     "metadata": {},
     "output_type": "execute_result"
    }
   ],
   "source": [
    "from datetimerange import DateTimeRange\n",
    "time_range = DateTimeRange(\"2015-03-22T10:00:00+0900\", \"2015-03-22T10:10:00+0900\")\n",
    "str(time_range)"
   ]
  },
  {
   "cell_type": "code",
   "execution_count": 68,
   "id": "79f6d04e",
   "metadata": {},
   "outputs": [
    {
     "ename": "ModuleNotFoundError",
     "evalue": "No module named 'Tkinter'",
     "output_type": "error",
     "traceback": [
      "\u001b[1;31m---------------------------------------------------------------------------\u001b[0m",
      "\u001b[1;31mModuleNotFoundError\u001b[0m                       Traceback (most recent call last)",
      "\u001b[1;32m<ipython-input-68-efc0d07cb709>\u001b[0m in \u001b[0;36m<module>\u001b[1;34m\u001b[0m\n\u001b[1;32m----> 1\u001b[1;33m \u001b[1;32mfrom\u001b[0m \u001b[0mTkinter\u001b[0m \u001b[1;32mimport\u001b[0m \u001b[1;33m*\u001b[0m\u001b[1;33m\u001b[0m\u001b[1;33m\u001b[0m\u001b[0m\n\u001b[0m\u001b[0;32m      2\u001b[0m \u001b[1;32mimport\u001b[0m \u001b[0msys\u001b[0m\u001b[1;33m\u001b[0m\u001b[1;33m\u001b[0m\u001b[0m\n\u001b[0;32m      3\u001b[0m \u001b[1;33m\u001b[0m\u001b[0m\n\u001b[0;32m      4\u001b[0m \u001b[1;32mclass\u001b[0m \u001b[0mpopupWindow\u001b[0m\u001b[1;33m(\u001b[0m\u001b[0mobject\u001b[0m\u001b[1;33m)\u001b[0m\u001b[1;33m:\u001b[0m\u001b[1;33m\u001b[0m\u001b[1;33m\u001b[0m\u001b[0m\n\u001b[0;32m      5\u001b[0m     \u001b[1;32mdef\u001b[0m \u001b[0m__init__\u001b[0m\u001b[1;33m(\u001b[0m\u001b[0mself\u001b[0m\u001b[1;33m,\u001b[0m\u001b[0mmaster\u001b[0m\u001b[1;33m)\u001b[0m\u001b[1;33m:\u001b[0m\u001b[1;33m\u001b[0m\u001b[1;33m\u001b[0m\u001b[0m\n",
      "\u001b[1;31mModuleNotFoundError\u001b[0m: No module named 'Tkinter'"
     ]
    }
   ],
   "source": [
    "from Tkinter import *\n",
    "import sys\n",
    "\n",
    "class popupWindow(object):\n",
    "    def __init__(self,master):\n",
    "        top=self.top=Toplevel(master)\n",
    "        self.l=Label(top,text=\"Hello World\")\n",
    "        self.l.pack()\n",
    "        self.e=Entry(top)\n",
    "        self.e.pack()\n",
    "        self.b=Button(top,text='Ok',command=self.cleanup)\n",
    "        self.b.pack()\n",
    "    def cleanup(self):\n",
    "        self.value=self.e.get()\n",
    "        self.top.destroy()\n",
    "\n",
    "class mainWindow(object):\n",
    "    def __init__(self,master):\n",
    "        self.master=master\n",
    "        self.b=Button(master,text=\"click me!\",command=self.popup)\n",
    "        self.b.pack()\n",
    "        self.b2=Button(master,text=\"print value\",command=lambda: sys.stdout.write(self.entryValue()+'\\n'))\n",
    "        self.b2.pack()\n",
    "\n",
    "    def popup(self):\n",
    "        self.w=popupWindow(self.master)\n",
    "        self.b[\"state\"] = \"disabled\" \n",
    "        self.master.wait_window(self.w.top)\n",
    "        self.b[\"state\"] = \"normal\"\n",
    "\n",
    "    def entryValue(self):\n",
    "        return self.w.value\n",
    "\n",
    "\n",
    "if __name__ == \"__main__\":\n",
    "    root=Tk()\n",
    "    m=mainWindow(root)\n",
    "    root.mainloop()"
   ]
  },
  {
   "cell_type": "code",
   "execution_count": null,
   "id": "d4e345fe",
   "metadata": {
    "scrolled": true
   },
   "outputs": [],
   "source": []
  },
  {
   "cell_type": "code",
   "execution_count": null,
   "id": "221d392a",
   "metadata": {},
   "outputs": [],
   "source": []
  },
  {
   "cell_type": "code",
   "execution_count": null,
   "id": "02ab1abc",
   "metadata": {},
   "outputs": [],
   "source": []
  },
  {
   "cell_type": "code",
   "execution_count": null,
   "id": "2ce904a1",
   "metadata": {},
   "outputs": [],
   "source": []
  },
  {
   "cell_type": "code",
   "execution_count": null,
   "id": "80b50e25",
   "metadata": {},
   "outputs": [],
   "source": []
  },
  {
   "cell_type": "code",
   "execution_count": 55,
   "id": "815557d0",
   "metadata": {},
   "outputs": [],
   "source": [
    "import numpy as np\n",
    "import matplotlib.pyplot as plt\n",
    "\n",
    "def Randwalk(n):\n",
    "    x = 2\n",
    "    y = 3\n",
    "    time = [x]\n",
    "    position = [y] \n",
    "    for i in range (1,n+1):\n",
    "        move = np.random.uniform(1,5)\n",
    "        print(move)\n",
    " \n",
    "        if move < 3:    \n",
    "            x += 1\n",
    "            y += 1  \n",
    " \n",
    "        if move > 3:    \n",
    "            x += 1\n",
    "            y += -1\n",
    "  \n",
    "        time.append(x)\n",
    "        position.append(y)\n",
    " \n",
    "    return [time, position]"
   ]
  },
  {
   "cell_type": "code",
   "execution_count": 58,
   "id": "bd02c40f",
   "metadata": {},
   "outputs": [
    {
     "name": "stdout",
     "output_type": "stream",
     "text": [
      "2.5947855792426635\n",
      "1.8572963540363614\n",
      "4.3060698928951915\n",
      "2.4461066044622424\n",
      "2.5872683116875277\n",
      "1.056589907611356\n",
      "[[2, 3, 4, 5, 6, 7, 8], [3, 4, 5, 4, 5, 6, 7]]\n"
     ]
    },
    {
     "data": {
      "image/png": "[encoded data removed]",
      "text/plain": [
       "<Figure size 432x288 with 1 Axes>"
      ]
     },
     "metadata": {
      "needs_background": "light"
     },
     "output_type": "display_data"
    }
   ],
   "source": [
    "Randwalk1 = Randwalk(6)\n",
    "\n",
    "print(Randwalk1)\n",
    "plt.plot(Randwalk1[0],Randwalk1[1],'r-', label = \"Randwalk1\")\n",
    "plt.show()"
   ]
  },
  {
   "cell_type": "code",
   "execution_count": 62,
   "id": "39d9e886",
   "metadata": {},
   "outputs": [
    {
     "name": "stdout",
     "output_type": "stream",
     "text": [
      "[3, 4, 5, 4, 5, 6, 7]\n"
     ]
    }
   ],
   "source": [
    "path = Randwalk1[]\n",
    "print(path)"
   ]
  },
  {
   "cell_type": "code",
   "execution_count": 63,
   "id": "080779cc",
   "metadata": {},
   "outputs": [
    {
     "data": {
      "text/plain": [
       "4"
      ]
     },
     "execution_count": 63,
     "metadata": {},
     "output_type": "execute_result"
    }
   ],
   "source": [
    "path[1]\n"
   ]
  },
  {
   "cell_type": "code",
   "execution_count": 87,
   "id": "0ff8e3c6",
   "metadata": {},
   "outputs": [
    {
     "name": "stdout",
     "output_type": "stream",
     "text": [
      "[['86:56:56:20:a5:2a', 'a6:e6:88:65:8c:f7', '36:ea:44:f6:bf:52', 'ce:da:fe:68:d2:9b', 'f6:00:25:50:2b:fc', '6e:5a:1a:37:61:09', 'ba:d7:76:a0:fa:ef', '46:2a:c4:ce:16:eb', '66:db:04:84:c9:9b', '26:9e:a6:e0:e0:a4', '76:55:3c:4f:92:5b', 'da:d4:3b:ca:06:7a', 'ee:53:3e:55:b4:4e', '2a:c3:bd:c5:7f:c1', '9e:b6:55:57:1c:44', '5e:54:23:cf:4b:ed', '26:fe:67:e8:fa:3f', '56:fa:43:79:53:80', 'f2:e6:dd:0d:f4:4e', 'ba:72:56:b7:a9:bf', 'e2:29:e7:98:b5:a7', '6a:74:c8:cf:87:b4', '3a:b1:5e:8a:0b:b2', '36:f9:ab:00:70:cb', '92:26:3f:a4:b0:c7', '0e:46:8a:06:76:ba', '82:0c:80:3a:c8:b0', 'ce:33:22:0b:4b:ad', 'be:4d:28:39:3e:d4', '3a:24:fe:ac:f3:dd', '7e:9d:33:1d:dd:40', 'd2:ab:59:6f:cb:b8', '32:25:dc:cd:cd:f7', '02:ed:77:0f:6e:bb', '4e:d3:75:f5:85:59', '26:5c:8f:34:36:ec', '4a:ca:cf:2c:98:1f', 'ee:11:3d:0e:1f:22', '3a:eb:8b:98:76:5a', '8a:71:fd:6e:de:f6', 'c2:c6:84:c3:37:1a', '46:62:45:08:78:ae', '06:ff:06:d4:33:73', '4e:2c:df:12:af:fd', '46:65:a2:20:b9:14', '46:d4:29:26:00:e2', '46:de:5a:eb:d0:62', '72:26:cf:66:5d:da', '26:d1:c0:d9:88:29', 'ae:5d:23:00:bc:2b']]\n"
     ]
    }
   ],
   "source": [
    "## set range of corridors\n",
    "n = 10 # number of corridors\n",
    "BSSIDs = Generate_BSSID(10)\n",
    "print (BSSIDs)"
   ]
  },
  {
   "cell_type": "code",
   "execution_count": 85,
   "id": "a87efce7",
   "metadata": {},
   "outputs": [
    {
     "ename": "IndexError",
     "evalue": "list index out of range",
     "output_type": "error",
     "traceback": [
      "\u001b[1;31m---------------------------------------------------------------------------\u001b[0m",
      "\u001b[1;31mIndexError\u001b[0m                                Traceback (most recent call last)",
      "\u001b[1;32m<ipython-input-85-92b5b3c6ecf3>\u001b[0m in \u001b[0;36m<module>\u001b[1;34m\u001b[0m\n\u001b[0;32m      2\u001b[0m \u001b[1;32mimport\u001b[0m \u001b[0mnetworkx\u001b[0m \u001b[1;32mas\u001b[0m \u001b[0mnx\u001b[0m\u001b[1;33m\u001b[0m\u001b[1;33m\u001b[0m\u001b[0m\n\u001b[0;32m      3\u001b[0m \u001b[0mnx_graph\u001b[0m \u001b[1;33m=\u001b[0m \u001b[0mnx\u001b[0m\u001b[1;33m.\u001b[0m\u001b[0mcycle_graph\u001b[0m\u001b[1;33m(\u001b[0m\u001b[0mn\u001b[0m\u001b[1;33m)\u001b[0m\u001b[1;33m\u001b[0m\u001b[1;33m\u001b[0m\u001b[0m\n\u001b[1;32m----> 4\u001b[1;33m \u001b[0mnx_graph\u001b[0m\u001b[1;33m.\u001b[0m\u001b[0mnodes\u001b[0m\u001b[1;33m[\u001b[0m\u001b[1;36m1\u001b[0m\u001b[1;33m]\u001b[0m\u001b[1;33m[\u001b[0m\u001b[1;34m'group'\u001b[0m\u001b[1;33m]\u001b[0m \u001b[1;33m=\u001b[0m \u001b[0mBSSIDs\u001b[0m\u001b[1;33m[\u001b[0m\u001b[1;36m1\u001b[0m\u001b[1;33m]\u001b[0m\u001b[1;33m\u001b[0m\u001b[1;33m\u001b[0m\u001b[0m\n\u001b[0m\u001b[0;32m      5\u001b[0m \u001b[0mnt\u001b[0m \u001b[1;33m=\u001b[0m \u001b[0mNetwork\u001b[0m\u001b[1;33m(\u001b[0m\u001b[1;34m'500px'\u001b[0m\u001b[1;33m,\u001b[0m \u001b[1;34m'500px'\u001b[0m\u001b[1;33m)\u001b[0m\u001b[1;33m\u001b[0m\u001b[1;33m\u001b[0m\u001b[0m\n\u001b[0;32m      6\u001b[0m \u001b[1;31m# populates the nodes and edges data structures\u001b[0m\u001b[1;33m\u001b[0m\u001b[1;33m\u001b[0m\u001b[1;33m\u001b[0m\u001b[0m\n",
      "\u001b[1;31mIndexError\u001b[0m: list index out of range"
     ]
    }
   ],
   "source": [
    "from pyvis.network import Network\n",
    "import networkx as nx\n",
    "nx_graph = nx.cycle_graph(n)\n",
    "nx_graph.nodes[1]['group'] = BSSIDs[1]\n",
    "nt = Network('500px', '500px')\n",
    "# populates the nodes and edges data structures\n",
    "nt.from_nx(nx_graph)\n",
    "nt.show('nx.html')"
   ]
  },
  {
   "cell_type": "code",
   "execution_count": 81,
   "id": "cb15de77",
   "metadata": {},
   "outputs": [
    {
     "name": "stdout",
     "output_type": "stream",
     "text": [
      "[0, 1, 2, 3, 4, 5, 6, 7, 8, 9]\n"
     ]
    }
   ],
   "source": [
    "node = nx_graph.nodes\n",
    "print (node)"
   ]
  },
  {
   "cell_type": "code",
   "execution_count": null,
   "id": "247c883d",
   "metadata": {},
   "outputs": [],
   "source": []
  }
 ],
 "metadata": {
  "kernelspec": {
   "display_name": "Python 3",
   "language": "python",
   "name": "python3"
  },
  "language_info": {
   "codemirror_mode": {
    "name": "ipython",
    "version": 3
   },
   "file_extension": ".py",
   "mimetype": "text/x-python",
   "name": "python",
   "nbconvert_exporter": "python",
   "pygments_lexer": "ipython3",
   "version": "3.8.8"
  }
 },
 "nbformat": 4,
 "nbformat_minor": 5
}
