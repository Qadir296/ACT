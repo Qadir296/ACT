{
 "cells": [
  {
   "cell_type": "code",
   "execution_count": 3,
   "id": "d1ac03ce",
   "metadata": {},
   "outputs": [],
   "source": [
    "# impoort lib \n",
    "import requests\n",
    "import json\n",
    "import time\n",
    "from requests.auth import HTTPBasicAuth\n",
    "import pygeohash as pgh\n",
    "import socket\n",
    "from datetime import datetime\n",
    "from enum import Enum\n",
    "from randmac import RandMac\n",
    "from pyvis.network import Network\n",
    "import networkx as nx\n"
   ]
  },
  {
   "cell_type": "code",
   "execution_count": 14,
   "id": "52aa0938",
   "metadata": {},
   "outputs": [],
   "source": [
    "BSSID = []\n",
    "def Generate_BSSID(n):\n",
    "    example_mac = \"00:00:00:00:00:00\"\n",
    "    for i in range(n):\n",
    "        generated_bssid = RandMac(example_mac)\n",
    "        BSSID.append(generated_bssid)\n",
    "    return BSSID"
   ]
  },
  {
   "cell_type": "code",
   "execution_count": 15,
   "id": "560b349d",
   "metadata": {},
   "outputs": [
    {
     "name": "stdout",
     "output_type": "stream",
     "text": [
      "['82:e3:12:01:05:a7', 'e2:b5:d1:9b:3c:e8', 'ae:45:bd:ae:4d:0d', '5e:ac:bc:df:17:c3', '42:2a:64:dd:ed:0e', 'ee:b1:bd:5f:64:b7', 'b6:52:8f:75:be:da', 'de:a8:ac:f8:6b:ef', '02:e2:95:5c:cb:47', '8e:7b:aa:14:77:35']\n"
     ]
    }
   ],
   "source": [
    "n = 10 # number of corridors\n",
    "id = Generate_BSSID(10)\n",
    "print(id)"
   ]
  },
  {
   "cell_type": "code",
   "execution_count": 16,
   "id": "d3856118",
   "metadata": {},
   "outputs": [],
   "source": [
    "nx_graph = nx.complete_graph(n)\n",
    "for i in range(n):\n",
    "    nx_graph.nodes[i]['title'] = str(id[i])\n",
    "nt = Network('500px', '500px')\n",
    "# populates the nodes and edges data structures\n",
    "nt.from_nx(nx_graph)\n",
    "nt.show('graph.html')"
   ]
  },
  {
   "cell_type": "code",
   "execution_count": 34,
   "id": "2ad58763",
   "metadata": {},
   "outputs": [],
   "source": [
    "# send the data to the detection Node\n",
    "import random\n",
    "for i in range(len(BSSID)): \n",
    "    value = BSSID[i] \n",
    "    test_result= random.sample(range(1, 10), 1)\n",
    "    test_time= datetime.now().isoformat()\n",
    "    data= {'peripherial_id': str(value), 'status': 'active', 'test_time':test_time ,'test_result': str(test_result)} \n",
    "    new_dict= {'m2m:cin': {'cnf': 'application/json:0', 'con': data}}\n",
    "    payload = json.dumps(new_dict)\n",
    "    API_endpoint= \"http://127.0.0.1:5000/DetectionService\"\n",
    "    headers= { 'content-Type':  'application/json'}\n",
    "    r= requests.post(url= API_endpoint, headers= headers, data=payload)\n",
    "    r.json()\n",
    "    time.sleep(6)"
   ]
  },
  {
   "cell_type": "code",
   "execution_count": null,
   "id": "5c87fb4a",
   "metadata": {},
   "outputs": [],
   "source": []
  },
  {
   "cell_type": "code",
   "execution_count": null,
   "id": "6a58c06f",
   "metadata": {},
   "outputs": [],
   "source": []
  }
 ],
 "metadata": {
  "kernelspec": {
   "display_name": "Python 3",
   "language": "python",
   "name": "python3"
  },
  "language_info": {
   "codemirror_mode": {
    "name": "ipython",
    "version": 3
   },
   "file_extension": ".py",
   "mimetype": "text/x-python",
   "name": "python",
   "nbconvert_exporter": "python",
   "pygments_lexer": "ipython3",
   "version": "3.8.8"
  }
 },
 "nbformat": 4,
 "nbformat_minor": 5
}
